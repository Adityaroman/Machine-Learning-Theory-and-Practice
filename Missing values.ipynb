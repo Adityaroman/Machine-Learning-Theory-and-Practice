{
 "cells": [
  {
   "cell_type": "code",
   "execution_count": 6,
   "id": "edd3e7e4-e247-44bd-a95d-6f441f0ca23d",
   "metadata": {},
   "outputs": [
    {
     "name": "stdout",
     "output_type": "stream",
     "text": [
      "Warning: Data contains missing values!\n"
     ]
    }
   ],
   "source": [
    "import pandas as pd \n",
    "import numpy as np\n",
    "data = { 'A':[1,2,None,4],\n",
    "       'B':[5,None,7,8],\n",
    "       'C':[9,10,11,12]}\n",
    "df = pd.DataFrame(data)\n",
    "#check for missing values\n",
    "if df.isnull().sum().any():\n",
    "    print(\"Warning: Data contains missing values!\")\n",
    "else:\n",
    "    print(\"No missing values found.\")\n"
   ]
  },
  {
   "cell_type": "code",
   "execution_count": 28,
   "id": "85af96db-4d59-479c-a79b-1271b7b91355",
   "metadata": {},
   "outputs": [
    {
     "name": "stdout",
     "output_type": "stream",
     "text": [
      "(5, 1)\n",
      "[[1200]\n",
      " [1300]\n",
      " [1020]\n",
      " [3000]\n",
      " [2330]]\n"
     ]
    }
   ],
   "source": [
    "import pandas as pd \n",
    "import numpy as np\n",
    "data = {'A':[1200,1300,1020,3000,2330]}\n",
    "df = pd.DataFrame(data)\n",
    "#Extracting 'A' and reshaping it\n",
    "X = df['A'].values.reshape(-1,1)\n",
    "#Checking the shape\n",
    "print(X.shape) #Output:(5,1)\n",
    "print(X)"
   ]
  },
  {
   "cell_type": "code",
   "execution_count": null,
   "id": "de0045be-ca04-4a08-91a4-86e32672ca0b",
   "metadata": {},
   "outputs": [],
   "source": []
  }
 ],
 "metadata": {
  "kernelspec": {
   "display_name": "Python 3 (ipykernel)",
   "language": "python",
   "name": "python3"
  },
  "language_info": {
   "codemirror_mode": {
    "name": "ipython",
    "version": 3
   },
   "file_extension": ".py",
   "mimetype": "text/x-python",
   "name": "python",
   "nbconvert_exporter": "python",
   "pygments_lexer": "ipython3",
   "version": "3.11.7"
  }
 },
 "nbformat": 4,
 "nbformat_minor": 5
}
