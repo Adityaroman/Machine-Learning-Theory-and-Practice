{
 "cells": [
  {
   "cell_type": "code",
   "execution_count": 7,
   "id": "246de387-2c10-4db6-aa93-9e5dc2a0b0f3",
   "metadata": {},
   "outputs": [
    {
     "name": "stdout",
     "output_type": "stream",
     "text": [
      "MSE: 0.375\n"
     ]
    }
   ],
   "source": [
    "from sklearn.metrics import mean_squared_error\n",
    "y_true = [3,-0.5,2,7] #Actual values\n",
    "y_pred = [2.5,0.0,2,8] #predicted values\n",
    "mse = mean_squared_error(y_true,y_pred) #Compute MSE\n",
    "print(\"MSE:\",mse) #Output result"
   ]
  },
  {
   "cell_type": "code",
   "execution_count": null,
   "id": "940630e5-e3b2-4a34-a815-6512b95fc56b",
   "metadata": {},
   "outputs": [],
   "source": []
  }
 ],
 "metadata": {
  "kernelspec": {
   "display_name": "Python 3 (ipykernel)",
   "language": "python",
   "name": "python3"
  },
  "language_info": {
   "codemirror_mode": {
    "name": "ipython",
    "version": 3
   },
   "file_extension": ".py",
   "mimetype": "text/x-python",
   "name": "python",
   "nbconvert_exporter": "python",
   "pygments_lexer": "ipython3",
   "version": "3.11.7"
  }
 },
 "nbformat": 4,
 "nbformat_minor": 5
}
