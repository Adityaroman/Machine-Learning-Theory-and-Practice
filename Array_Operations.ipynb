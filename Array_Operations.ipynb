{
 "cells": [
  {
   "cell_type": "code",
   "execution_count": 4,
   "id": "1618fbb8-ccae-413e-96e9-a1c242b3e2ac",
   "metadata": {},
   "outputs": [],
   "source": [
    "import numpy as np\n"
   ]
  },
  {
   "cell_type": "code",
   "execution_count": 6,
   "id": "6fa4351b-cf57-4c7f-ad45-a6a560ae5ebd",
   "metadata": {},
   "outputs": [
    {
     "name": "stdout",
     "output_type": "stream",
     "text": [
      "Original array: [ -1  -5 -10 -20  -3]\n",
      "Absolute values: [ 1  5 10 20  3]\n"
     ]
    }
   ],
   "source": [
    "negative_array = np.array([-1, -5, -10, -20, -3])\n",
    "\n",
    "absolute_array = np.abs(negative_array)\n",
    "print(\"Original array:\", negative_array)\n",
    "print(\"Absolute values:\", absolute_array)"
   ]
  },
  {
   "cell_type": "code",
   "execution_count": 10,
   "id": "53a667f5-d054-4fed-a0d6-6a8c3723210e",
   "metadata": {},
   "outputs": [
    {
     "name": "stdout",
     "output_type": "stream",
     "text": [
      "Original array: [ 1.2  3.8 -4.5  7.6 -2.3]\n",
      "Rounded array: [ 1.  4. -4.  8. -2.]\n"
     ]
    }
   ],
   "source": [
    "float_array = np.array([1.2, 3.8, -4.5, 7.6, -2.3])\n",
    "rounded_array = np.rint(float_array)\n",
    "\n",
    "print(\"Original array:\", float_array)\n",
    "print(\"Rounded array:\", rounded_array)"
   ]
  },
  {
   "cell_type": "code",
   "execution_count": 12,
   "id": "83bdf8db-1952-4bf9-9005-32700a85d506",
   "metadata": {},
   "outputs": [
    {
     "name": "stdout",
     "output_type": "stream",
     "text": [
      "[[ 2  3  4]\n",
      " [ 5  6  7]\n",
      " [ 8  9 10]]\n"
     ]
    }
   ],
   "source": [
    "matrix = np.arange(2, 11).reshape(3, 3)\n",
    "\n",
    "print(matrix)"
   ]
  },
  {
   "cell_type": "code",
   "execution_count": 32,
   "id": "46587043-aaf3-4c2b-8702-74335d044929",
   "metadata": {},
   "outputs": [
    {
     "name": "stdout",
     "output_type": "stream",
     "text": [
      "   A  B  C\n",
      "0  1  2  3\n",
      "1  4  5  6\n",
      "2  7  8  9\n"
     ]
    }
   ],
   "source": [
    "import numpy as np\n",
    "array = np.array([1, 2, 3, 4, 5, 6, 7, 8, 9])\n",
    "\n",
    "reshaped_array = array.reshape(3, 3)\n",
    "df = pd.DataFrame(reshaped_array, columns=['A', 'B', 'C'])\n",
    "print(df)\n"
   ]
  },
  {
   "cell_type": "code",
   "execution_count": 20,
   "id": "72e8b78a-2455-44d2-a329-48506043b85b",
   "metadata": {},
   "outputs": [
    {
     "data": {
      "text/plain": [
       "array([1, 2, 3])"
      ]
     },
     "execution_count": 20,
     "metadata": {},
     "output_type": "execute_result"
    }
   ],
   "source": [
    "#OR below in simple way same as above\n",
    "\n",
    "#1\n",
    "import numpy as np\n",
    "a=np.array([-1,-2,-3])\n",
    "a\n",
    "np.absolute(a)\n",
    "\n"
   ]
  },
  {
   "cell_type": "code",
   "execution_count": 22,
   "id": "0a29fa7c-a2f1-4bf7-b54e-76f6f5a7c1f4",
   "metadata": {},
   "outputs": [
    {
     "data": {
      "text/plain": [
       "array([1., 2., 4., 5., 6., 6.])"
      ]
     },
     "execution_count": 22,
     "metadata": {},
     "output_type": "execute_result"
    }
   ],
   "source": [
    "#2\n",
    "b=np.array([1.2,2.4,3.5,4.6,5.9,6.0])\n",
    "np.round(b)"
   ]
  },
  {
   "cell_type": "code",
   "execution_count": 24,
   "id": "693e5336-10ac-4449-90e8-08f347b21dc6",
   "metadata": {},
   "outputs": [
    {
     "name": "stdout",
     "output_type": "stream",
     "text": [
      "[ 2  3  4  5  6  7  8  9 10]\n"
     ]
    },
    {
     "data": {
      "text/plain": [
       "array([[ 2,  3,  4],\n",
       "       [ 5,  6,  7],\n",
       "       [ 8,  9, 10]])"
      ]
     },
     "execution_count": 24,
     "metadata": {},
     "output_type": "execute_result"
    }
   ],
   "source": [
    "#3\n",
    "c=np.arange(2,11)\n",
    "print(c)\n",
    "c.reshape(3,3)"
   ]
  },
  {
   "cell_type": "code",
   "execution_count": 26,
   "id": "ad17f327-af2d-49e0-9bfc-c92b6e701f81",
   "metadata": {},
   "outputs": [
    {
     "name": "stdout",
     "output_type": "stream",
     "text": [
      "[1, 2, 3, 4, 5]\n",
      "0    1\n",
      "1    2\n",
      "2    3\n",
      "3    4\n",
      "4    5\n",
      "dtype: int64\n",
      "[1 2 3 4 5]\n",
      "0    1\n",
      "1    2\n",
      "2    3\n",
      "3    4\n",
      "4    5\n",
      "dtype: int32\n"
     ]
    }
   ],
   "source": [
    "import pandas as pd\n",
    "d=[1,2,3,4,5]\n",
    "print(d)\n",
    "e=pd.Series(d)\n",
    "print(e)\n",
    "f=np.array([1,2,3,4,5])\n",
    "print(f)\n",
    "g=pd.Series(f)\n",
    "print(g)"
   ]
  },
  {
   "cell_type": "code",
   "execution_count": 28,
   "id": "6769733a-dea4-4dfe-a94b-3f737b38589c",
   "metadata": {},
   "outputs": [
    {
     "data": {
      "text/plain": [
       "{'a': 1, 'b': 2, 'c': 3}"
      ]
     },
     "execution_count": 28,
     "metadata": {},
     "output_type": "execute_result"
    }
   ],
   "source": [
    "h={'a':1,'b':2,'c':3}\n",
    "h"
   ]
  },
  {
   "cell_type": "code",
   "execution_count": 30,
   "id": "b0218775-cf31-420e-935f-03a250d7856e",
   "metadata": {},
   "outputs": [
    {
     "data": {
      "text/html": [
       "<div>\n",
       "<style scoped>\n",
       "    .dataframe tbody tr th:only-of-type {\n",
       "        vertical-align: middle;\n",
       "    }\n",
       "\n",
       "    .dataframe tbody tr th {\n",
       "        vertical-align: top;\n",
       "    }\n",
       "\n",
       "    .dataframe thead th {\n",
       "        text-align: right;\n",
       "    }\n",
       "</style>\n",
       "<table border=\"1\" class=\"dataframe\">\n",
       "  <thead>\n",
       "    <tr style=\"text-align: right;\">\n",
       "      <th></th>\n",
       "      <th>0</th>\n",
       "    </tr>\n",
       "  </thead>\n",
       "  <tbody>\n",
       "    <tr>\n",
       "      <th>0</th>\n",
       "      <td>10</td>\n",
       "    </tr>\n",
       "    <tr>\n",
       "      <th>1</th>\n",
       "      <td>20</td>\n",
       "    </tr>\n",
       "    <tr>\n",
       "      <th>2</th>\n",
       "      <td>30</td>\n",
       "    </tr>\n",
       "    <tr>\n",
       "      <th>3</th>\n",
       "      <td>40</td>\n",
       "    </tr>\n",
       "  </tbody>\n",
       "</table>\n",
       "</div>"
      ],
      "text/plain": [
       "    0\n",
       "0  10\n",
       "1  20\n",
       "2  30\n",
       "3  40"
      ]
     },
     "execution_count": 30,
     "metadata": {},
     "output_type": "execute_result"
    }
   ],
   "source": [
    "#5\n",
    "j=np.array([10,20,30,40])\n",
    "k=pd.DataFrame(j)\n",
    "k"
   ]
  }
 ],
 "metadata": {
  "kernelspec": {
   "display_name": "Python 3 (ipykernel)",
   "language": "python",
   "name": "python3"
  },
  "language_info": {
   "codemirror_mode": {
    "name": "ipython",
    "version": 3
   },
   "file_extension": ".py",
   "mimetype": "text/x-python",
   "name": "python",
   "nbconvert_exporter": "python",
   "pygments_lexer": "ipython3",
   "version": "3.11.7"
  }
 },
 "nbformat": 4,
 "nbformat_minor": 5
}
