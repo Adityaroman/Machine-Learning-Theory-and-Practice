{
 "cells": [
  {
   "cell_type": "code",
   "execution_count": 3,
   "metadata": {
    "colab": {
     "base_uri": "https://localhost:8080/",
     "height": 258
    },
    "executionInfo": {
     "elapsed": 400,
     "status": "ok",
     "timestamp": 1736749036266,
     "user": {
      "displayName": "Bhaumik Serasiya",
      "userId": "03848224014463904284"
     },
     "user_tz": -330
    },
    "id": "FHNfw5QEQiiE",
    "outputId": "a54eccc4-d320-4ea8-f134-4f9e622d89a7"
   },
   "outputs": [
    {
     "data": {
      "text/html": [
       "<div>\n",
       "<style scoped>\n",
       "    .dataframe tbody tr th:only-of-type {\n",
       "        vertical-align: middle;\n",
       "    }\n",
       "\n",
       "    .dataframe tbody tr th {\n",
       "        vertical-align: top;\n",
       "    }\n",
       "\n",
       "    .dataframe thead th {\n",
       "        text-align: right;\n",
       "    }\n",
       "</style>\n",
       "<table border=\"1\" class=\"dataframe\">\n",
       "  <thead>\n",
       "    <tr style=\"text-align: right;\">\n",
       "      <th></th>\n",
       "      <th>Team</th>\n",
       "      <th>Tournament</th>\n",
       "      <th>Goals Scored</th>\n",
       "      <th>Shots pg</th>\n",
       "      <th>Yellow Cards</th>\n",
       "      <th>Red Cards</th>\n",
       "      <th>Shooting Accuracy</th>\n",
       "      <th>AerialsWon</th>\n",
       "      <th>Rating</th>\n",
       "      <th>Discipline</th>\n",
       "      <th>Own Fouls</th>\n",
       "      <th>Opponent Fouls</th>\n",
       "    </tr>\n",
       "  </thead>\n",
       "  <tbody>\n",
       "    <tr>\n",
       "      <th>0</th>\n",
       "      <td>Manchester City</td>\n",
       "      <td>Premier League</td>\n",
       "      <td>83</td>\n",
       "      <td>15.8</td>\n",
       "      <td>46</td>\n",
       "      <td>2</td>\n",
       "      <td>89.4</td>\n",
       "      <td>12.8</td>\n",
       "      <td>7.01</td>\n",
       "      <td>48</td>\n",
       "      <td>1</td>\n",
       "      <td>1</td>\n",
       "    </tr>\n",
       "    <tr>\n",
       "      <th>1</th>\n",
       "      <td>Bayern Munich</td>\n",
       "      <td>Bundesliga</td>\n",
       "      <td>99</td>\n",
       "      <td>17.1</td>\n",
       "      <td>44</td>\n",
       "      <td>3</td>\n",
       "      <td>85.5</td>\n",
       "      <td>12.9</td>\n",
       "      <td>6.95</td>\n",
       "      <td>47</td>\n",
       "      <td>2</td>\n",
       "      <td>2</td>\n",
       "    </tr>\n",
       "    <tr>\n",
       "      <th>2</th>\n",
       "      <td>Paris Saint-Germain</td>\n",
       "      <td>Ligue 1</td>\n",
       "      <td>86</td>\n",
       "      <td>15.0</td>\n",
       "      <td>73</td>\n",
       "      <td>7</td>\n",
       "      <td>89.5</td>\n",
       "      <td>9.5</td>\n",
       "      <td>6.88</td>\n",
       "      <td>80</td>\n",
       "      <td>3</td>\n",
       "      <td>3</td>\n",
       "    </tr>\n",
       "    <tr>\n",
       "      <th>3</th>\n",
       "      <td>Barcelona</td>\n",
       "      <td>LaLiga</td>\n",
       "      <td>85</td>\n",
       "      <td>15.3</td>\n",
       "      <td>68</td>\n",
       "      <td>2</td>\n",
       "      <td>89.7</td>\n",
       "      <td>10.6</td>\n",
       "      <td>6.87</td>\n",
       "      <td>70</td>\n",
       "      <td>4</td>\n",
       "      <td>5</td>\n",
       "    </tr>\n",
       "    <tr>\n",
       "      <th>4</th>\n",
       "      <td>Real Madrid</td>\n",
       "      <td>LaLiga</td>\n",
       "      <td>67</td>\n",
       "      <td>14.4</td>\n",
       "      <td>57</td>\n",
       "      <td>2</td>\n",
       "      <td>87.7</td>\n",
       "      <td>11.8</td>\n",
       "      <td>6.86</td>\n",
       "      <td>59</td>\n",
       "      <td>5</td>\n",
       "      <td>6</td>\n",
       "    </tr>\n",
       "  </tbody>\n",
       "</table>\n",
       "</div>"
      ],
      "text/plain": [
       "                  Team      Tournament  Goals Scored  Shots pg  Yellow Cards  \\\n",
       "0      Manchester City  Premier League            83      15.8            46   \n",
       "1        Bayern Munich      Bundesliga            99      17.1            44   \n",
       "2  Paris Saint-Germain         Ligue 1            86      15.0            73   \n",
       "3            Barcelona          LaLiga            85      15.3            68   \n",
       "4          Real Madrid          LaLiga            67      14.4            57   \n",
       "\n",
       "   Red Cards  Shooting Accuracy  AerialsWon  Rating  Discipline  Own Fouls  \\\n",
       "0          2               89.4        12.8    7.01          48          1   \n",
       "1          3               85.5        12.9    6.95          47          2   \n",
       "2          7               89.5         9.5    6.88          80          3   \n",
       "3          2               89.7        10.6    6.87          70          4   \n",
       "4          2               87.7        11.8    6.86          59          5   \n",
       "\n",
       "   Opponent Fouls  \n",
       "0               1  \n",
       "1               2  \n",
       "2               3  \n",
       "3               5  \n",
       "4               6  "
      ]
     },
     "execution_count": 3,
     "metadata": {},
     "output_type": "execute_result"
    }
   ],
   "source": [
    "import pandas as pd\n",
    "import numpy as np\n",
    "df = pd.read_csv('Football_dataset.csv')\n",
    "df.head()"
   ]
  },
  {
   "cell_type": "code",
   "execution_count": 5,
   "metadata": {
    "colab": {
     "base_uri": "https://localhost:8080/",
     "height": 275
    },
    "executionInfo": {
     "elapsed": 407,
     "status": "ok",
     "timestamp": 1736749069000,
     "user": {
      "displayName": "Bhaumik Serasiya",
      "userId": "03848224014463904284"
     },
     "user_tz": -330
    },
    "id": "KYcdNEOhT5aM",
    "outputId": "77449173-c1e8-4ed0-a1af-308c6cef50e9"
   },
   "outputs": [
    {
     "data": {
      "application/vnd.google.colaboratory.intrinsic+json": {
       "summary": "{\n  \"name\": \"df\",\n  \"rows\": 5,\n  \"fields\": [\n    {\n      \"column\": \"Team\",\n      \"properties\": {\n        \"dtype\": \"string\",\n        \"num_unique_values\": 5,\n        \"samples\": [\n          \"Bayer Leverkusen\",\n          \"Roma\",\n          \"Eintracht Frankfurt\"\n        ],\n        \"semantic_type\": \"\",\n        \"description\": \"\"\n      }\n    },\n    {\n      \"column\": \"Tournament\",\n      \"properties\": {\n        \"dtype\": \"string\",\n        \"num_unique_values\": 4,\n        \"samples\": [\n          \"Bundesliga\",\n          \"Serie A\",\n          \"Premier League\"\n        ],\n        \"semantic_type\": \"\",\n        \"description\": \"\"\n      }\n    },\n    {\n      \"column\": \"Goals Scored\",\n      \"properties\": {\n        \"dtype\": \"number\",\n        \"std\": 12,\n        \"min\": 47,\n        \"max\": 76,\n        \"num_unique_values\": 5,\n        \"samples\": [\n          53,\n          68,\n          69\n        ],\n        \"semantic_type\": \"\",\n        \"description\": \"\"\n      }\n    },\n    {\n      \"column\": \"Shots pg\",\n      \"properties\": {\n        \"dtype\": \"number\",\n        \"std\": 1.390323703315167,\n        \"min\": 10.5,\n        \"max\": 14.3,\n        \"num_unique_values\": 5,\n        \"samples\": [\n          13.0,\n          14.3,\n          13.2\n        ],\n        \"semantic_type\": \"\",\n        \"description\": \"\"\n      }\n    },\n    {\n      \"column\": \"Yellow Cards\",\n      \"properties\": {\n        \"dtype\": \"number\",\n        \"std\": 11,\n        \"min\": 58,\n        \"max\": 84,\n        \"num_unique_values\": 5,\n        \"samples\": [\n          58,\n          84,\n          80\n        ],\n        \"semantic_type\": \"\",\n        \"description\": \"\"\n      }\n    },\n    {\n      \"column\": \"Red Cards\",\n      \"properties\": {\n        \"dtype\": \"number\",\n        \"std\": 2,\n        \"min\": 0,\n        \"max\": 7,\n        \"num_unique_values\": 5,\n        \"samples\": [\n          0,\n          3,\n          1\n        ],\n        \"semantic_type\": \"\",\n        \"description\": \"\"\n      }\n    },\n    {\n      \"column\": \"Shooting Accuracy\",\n      \"properties\": {\n        \"dtype\": \"number\",\n        \"std\": 2.077739155909618,\n        \"min\": 79.6,\n        \"max\": 84.5,\n        \"num_unique_values\": 5,\n        \"samples\": [\n          84.4,\n          84.5,\n          79.6\n        ],\n        \"semantic_type\": \"\",\n        \"description\": \"\"\n      }\n    },\n    {\n      \"column\": \"AerialsWon\",\n      \"properties\": {\n        \"dtype\": \"number\",\n        \"std\": 2.688494002225037,\n        \"min\": 12.1,\n        \"max\": 17.9,\n        \"num_unique_values\": 5,\n        \"samples\": [\n          13.1,\n          12.1,\n          17.9\n        ],\n        \"semantic_type\": \"\",\n        \"description\": \"\"\n      }\n    },\n    {\n      \"column\": \"Rating\",\n      \"properties\": {\n        \"dtype\": \"number\",\n        \"std\": 0.008944271909999366,\n        \"min\": 6.71,\n        \"max\": 6.73,\n        \"num_unique_values\": 2,\n        \"samples\": [\n          6.71,\n          6.73\n        ],\n        \"semantic_type\": \"\",\n        \"description\": \"\"\n      }\n    },\n    {\n      \"column\": \"Discipline\",\n      \"properties\": {\n        \"dtype\": \"number\",\n        \"std\": 13,\n        \"min\": 58,\n        \"max\": 87,\n        \"num_unique_values\": 4,\n        \"samples\": [\n          58,\n          87\n        ],\n        \"semantic_type\": \"\",\n        \"description\": \"\"\n      }\n    },\n    {\n      \"column\": \"Own Fouls\",\n      \"properties\": {\n        \"dtype\": \"number\",\n        \"std\": 1,\n        \"min\": 1,\n        \"max\": 5,\n        \"num_unique_values\": 5,\n        \"samples\": [\n          2,\n          5\n        ],\n        \"semantic_type\": \"\",\n        \"description\": \"\"\n      }\n    },\n    {\n      \"column\": \"Opponent Fouls\",\n      \"properties\": {\n        \"dtype\": \"number\",\n        \"std\": 2,\n        \"min\": 1,\n        \"max\": 6,\n        \"num_unique_values\": 5,\n        \"samples\": [\n          2,\n          6\n        ],\n        \"semantic_type\": \"\",\n        \"description\": \"\"\n      }\n    }\n  ]\n}",
       "type": "dataframe"
      },
      "text/html": [
       "\n",
       "  <div id=\"df-00b5e02c-e6d3-447e-a63b-8572471b9550\" class=\"colab-df-container\">\n",
       "    <div>\n",
       "<style scoped>\n",
       "    .dataframe tbody tr th:only-of-type {\n",
       "        vertical-align: middle;\n",
       "    }\n",
       "\n",
       "    .dataframe tbody tr th {\n",
       "        vertical-align: top;\n",
       "    }\n",
       "\n",
       "    .dataframe thead th {\n",
       "        text-align: right;\n",
       "    }\n",
       "</style>\n",
       "<table border=\"1\" class=\"dataframe\">\n",
       "  <thead>\n",
       "    <tr style=\"text-align: right;\">\n",
       "      <th></th>\n",
       "      <th>Team</th>\n",
       "      <th>Tournament</th>\n",
       "      <th>Goals Scored</th>\n",
       "      <th>Shots pg</th>\n",
       "      <th>Yellow Cards</th>\n",
       "      <th>Red Cards</th>\n",
       "      <th>Shooting Accuracy</th>\n",
       "      <th>AerialsWon</th>\n",
       "      <th>Rating</th>\n",
       "      <th>Discipline</th>\n",
       "      <th>Own Fouls</th>\n",
       "      <th>Opponent Fouls</th>\n",
       "    </tr>\n",
       "  </thead>\n",
       "  <tbody>\n",
       "    <tr>\n",
       "      <th>24</th>\n",
       "      <td>Everton</td>\n",
       "      <td>Premier League</td>\n",
       "      <td>47</td>\n",
       "      <td>10.5</td>\n",
       "      <td>59</td>\n",
       "      <td>2</td>\n",
       "      <td>81.4</td>\n",
       "      <td>17.7</td>\n",
       "      <td>6.73</td>\n",
       "      <td>61</td>\n",
       "      <td>1</td>\n",
       "      <td>1</td>\n",
       "    </tr>\n",
       "    <tr>\n",
       "      <th>25</th>\n",
       "      <td>Bayer Leverkusen</td>\n",
       "      <td>Bundesliga</td>\n",
       "      <td>53</td>\n",
       "      <td>13.0</td>\n",
       "      <td>58</td>\n",
       "      <td>0</td>\n",
       "      <td>84.4</td>\n",
       "      <td>13.1</td>\n",
       "      <td>6.73</td>\n",
       "      <td>58</td>\n",
       "      <td>2</td>\n",
       "      <td>2</td>\n",
       "    </tr>\n",
       "    <tr>\n",
       "      <th>26</th>\n",
       "      <td>Eintracht Frankfurt</td>\n",
       "      <td>Bundesliga</td>\n",
       "      <td>69</td>\n",
       "      <td>13.2</td>\n",
       "      <td>80</td>\n",
       "      <td>1</td>\n",
       "      <td>79.6</td>\n",
       "      <td>17.9</td>\n",
       "      <td>6.73</td>\n",
       "      <td>81</td>\n",
       "      <td>3</td>\n",
       "      <td>3</td>\n",
       "    </tr>\n",
       "    <tr>\n",
       "      <th>27</th>\n",
       "      <td>Monaco</td>\n",
       "      <td>Ligue 1</td>\n",
       "      <td>76</td>\n",
       "      <td>12.8</td>\n",
       "      <td>74</td>\n",
       "      <td>7</td>\n",
       "      <td>82.7</td>\n",
       "      <td>16.5</td>\n",
       "      <td>6.73</td>\n",
       "      <td>81</td>\n",
       "      <td>4</td>\n",
       "      <td>5</td>\n",
       "    </tr>\n",
       "    <tr>\n",
       "      <th>28</th>\n",
       "      <td>Roma</td>\n",
       "      <td>Serie A</td>\n",
       "      <td>68</td>\n",
       "      <td>14.3</td>\n",
       "      <td>84</td>\n",
       "      <td>3</td>\n",
       "      <td>84.5</td>\n",
       "      <td>12.1</td>\n",
       "      <td>6.71</td>\n",
       "      <td>87</td>\n",
       "      <td>5</td>\n",
       "      <td>6</td>\n",
       "    </tr>\n",
       "  </tbody>\n",
       "</table>\n",
       "</div>\n",
       "    <div class=\"colab-df-buttons\">\n",
       "\n",
       "  <div class=\"colab-df-container\">\n",
       "    <button class=\"colab-df-convert\" onclick=\"convertToInteractive('df-00b5e02c-e6d3-447e-a63b-8572471b9550')\"\n",
       "            title=\"Convert this dataframe to an interactive table.\"\n",
       "            style=\"display:none;\">\n",
       "\n",
       "  <svg xmlns=\"http://www.w3.org/2000/svg\" height=\"24px\" viewBox=\"0 -960 960 960\">\n",
       "    <path d=\"M120-120v-720h720v720H120Zm60-500h600v-160H180v160Zm220 220h160v-160H400v160Zm0 220h160v-160H400v160ZM180-400h160v-160H180v160Zm440 0h160v-160H620v160ZM180-180h160v-160H180v160Zm440 0h160v-160H620v160Z\"/>\n",
       "  </svg>\n",
       "    </button>\n",
       "\n",
       "  <style>\n",
       "    .colab-df-container {\n",
       "      display:flex;\n",
       "      gap: 12px;\n",
       "    }\n",
       "\n",
       "    .colab-df-convert {\n",
       "      background-color: #E8F0FE;\n",
       "      border: none;\n",
       "      border-radius: 50%;\n",
       "      cursor: pointer;\n",
       "      display: none;\n",
       "      fill: #1967D2;\n",
       "      height: 32px;\n",
       "      padding: 0 0 0 0;\n",
       "      width: 32px;\n",
       "    }\n",
       "\n",
       "    .colab-df-convert:hover {\n",
       "      background-color: #E2EBFA;\n",
       "      box-shadow: 0px 1px 2px rgba(60, 64, 67, 0.3), 0px 1px 3px 1px rgba(60, 64, 67, 0.15);\n",
       "      fill: #174EA6;\n",
       "    }\n",
       "\n",
       "    .colab-df-buttons div {\n",
       "      margin-bottom: 4px;\n",
       "    }\n",
       "\n",
       "    [theme=dark] .colab-df-convert {\n",
       "      background-color: #3B4455;\n",
       "      fill: #D2E3FC;\n",
       "    }\n",
       "\n",
       "    [theme=dark] .colab-df-convert:hover {\n",
       "      background-color: #434B5C;\n",
       "      box-shadow: 0px 1px 3px 1px rgba(0, 0, 0, 0.15);\n",
       "      filter: drop-shadow(0px 1px 2px rgba(0, 0, 0, 0.3));\n",
       "      fill: #FFFFFF;\n",
       "    }\n",
       "  </style>\n",
       "\n",
       "    <script>\n",
       "      const buttonEl =\n",
       "        document.querySelector('#df-00b5e02c-e6d3-447e-a63b-8572471b9550 button.colab-df-convert');\n",
       "      buttonEl.style.display =\n",
       "        google.colab.kernel.accessAllowed ? 'block' : 'none';\n",
       "\n",
       "      async function convertToInteractive(key) {\n",
       "        const element = document.querySelector('#df-00b5e02c-e6d3-447e-a63b-8572471b9550');\n",
       "        const dataTable =\n",
       "          await google.colab.kernel.invokeFunction('convertToInteractive',\n",
       "                                                    [key], {});\n",
       "        if (!dataTable) return;\n",
       "\n",
       "        const docLinkHtml = 'Like what you see? Visit the ' +\n",
       "          '<a target=\"_blank\" href=https://colab.research.google.com/notebooks/data_table.ipynb>data table notebook</a>'\n",
       "          + ' to learn more about interactive tables.';\n",
       "        element.innerHTML = '';\n",
       "        dataTable['output_type'] = 'display_data';\n",
       "        await google.colab.output.renderOutput(dataTable, element);\n",
       "        const docLink = document.createElement('div');\n",
       "        docLink.innerHTML = docLinkHtml;\n",
       "        element.appendChild(docLink);\n",
       "      }\n",
       "    </script>\n",
       "  </div>\n",
       "\n",
       "\n",
       "<div id=\"df-7c2922db-1d7a-44a4-9e87-1ca459c3142a\">\n",
       "  <button class=\"colab-df-quickchart\" onclick=\"quickchart('df-7c2922db-1d7a-44a4-9e87-1ca459c3142a')\"\n",
       "            title=\"Suggest charts\"\n",
       "            style=\"display:none;\">\n",
       "\n",
       "<svg xmlns=\"http://www.w3.org/2000/svg\" height=\"24px\"viewBox=\"0 0 24 24\"\n",
       "     width=\"24px\">\n",
       "    <g>\n",
       "        <path d=\"M19 3H5c-1.1 0-2 .9-2 2v14c0 1.1.9 2 2 2h14c1.1 0 2-.9 2-2V5c0-1.1-.9-2-2-2zM9 17H7v-7h2v7zm4 0h-2V7h2v10zm4 0h-2v-4h2v4z\"/>\n",
       "    </g>\n",
       "</svg>\n",
       "  </button>\n",
       "\n",
       "<style>\n",
       "  .colab-df-quickchart {\n",
       "      --bg-color: #E8F0FE;\n",
       "      --fill-color: #1967D2;\n",
       "      --hover-bg-color: #E2EBFA;\n",
       "      --hover-fill-color: #174EA6;\n",
       "      --disabled-fill-color: #AAA;\n",
       "      --disabled-bg-color: #DDD;\n",
       "  }\n",
       "\n",
       "  [theme=dark] .colab-df-quickchart {\n",
       "      --bg-color: #3B4455;\n",
       "      --fill-color: #D2E3FC;\n",
       "      --hover-bg-color: #434B5C;\n",
       "      --hover-fill-color: #FFFFFF;\n",
       "      --disabled-bg-color: #3B4455;\n",
       "      --disabled-fill-color: #666;\n",
       "  }\n",
       "\n",
       "  .colab-df-quickchart {\n",
       "    background-color: var(--bg-color);\n",
       "    border: none;\n",
       "    border-radius: 50%;\n",
       "    cursor: pointer;\n",
       "    display: none;\n",
       "    fill: var(--fill-color);\n",
       "    height: 32px;\n",
       "    padding: 0;\n",
       "    width: 32px;\n",
       "  }\n",
       "\n",
       "  .colab-df-quickchart:hover {\n",
       "    background-color: var(--hover-bg-color);\n",
       "    box-shadow: 0 1px 2px rgba(60, 64, 67, 0.3), 0 1px 3px 1px rgba(60, 64, 67, 0.15);\n",
       "    fill: var(--button-hover-fill-color);\n",
       "  }\n",
       "\n",
       "  .colab-df-quickchart-complete:disabled,\n",
       "  .colab-df-quickchart-complete:disabled:hover {\n",
       "    background-color: var(--disabled-bg-color);\n",
       "    fill: var(--disabled-fill-color);\n",
       "    box-shadow: none;\n",
       "  }\n",
       "\n",
       "  .colab-df-spinner {\n",
       "    border: 2px solid var(--fill-color);\n",
       "    border-color: transparent;\n",
       "    border-bottom-color: var(--fill-color);\n",
       "    animation:\n",
       "      spin 1s steps(1) infinite;\n",
       "  }\n",
       "\n",
       "  @keyframes spin {\n",
       "    0% {\n",
       "      border-color: transparent;\n",
       "      border-bottom-color: var(--fill-color);\n",
       "      border-left-color: var(--fill-color);\n",
       "    }\n",
       "    20% {\n",
       "      border-color: transparent;\n",
       "      border-left-color: var(--fill-color);\n",
       "      border-top-color: var(--fill-color);\n",
       "    }\n",
       "    30% {\n",
       "      border-color: transparent;\n",
       "      border-left-color: var(--fill-color);\n",
       "      border-top-color: var(--fill-color);\n",
       "      border-right-color: var(--fill-color);\n",
       "    }\n",
       "    40% {\n",
       "      border-color: transparent;\n",
       "      border-right-color: var(--fill-color);\n",
       "      border-top-color: var(--fill-color);\n",
       "    }\n",
       "    60% {\n",
       "      border-color: transparent;\n",
       "      border-right-color: var(--fill-color);\n",
       "    }\n",
       "    80% {\n",
       "      border-color: transparent;\n",
       "      border-right-color: var(--fill-color);\n",
       "      border-bottom-color: var(--fill-color);\n",
       "    }\n",
       "    90% {\n",
       "      border-color: transparent;\n",
       "      border-bottom-color: var(--fill-color);\n",
       "    }\n",
       "  }\n",
       "</style>\n",
       "\n",
       "  <script>\n",
       "    async function quickchart(key) {\n",
       "      const quickchartButtonEl =\n",
       "        document.querySelector('#' + key + ' button');\n",
       "      quickchartButtonEl.disabled = true;  // To prevent multiple clicks.\n",
       "      quickchartButtonEl.classList.add('colab-df-spinner');\n",
       "      try {\n",
       "        const charts = await google.colab.kernel.invokeFunction(\n",
       "            'suggestCharts', [key], {});\n",
       "      } catch (error) {\n",
       "        console.error('Error during call to suggestCharts:', error);\n",
       "      }\n",
       "      quickchartButtonEl.classList.remove('colab-df-spinner');\n",
       "      quickchartButtonEl.classList.add('colab-df-quickchart-complete');\n",
       "    }\n",
       "    (() => {\n",
       "      let quickchartButtonEl =\n",
       "        document.querySelector('#df-7c2922db-1d7a-44a4-9e87-1ca459c3142a button');\n",
       "      quickchartButtonEl.style.display =\n",
       "        google.colab.kernel.accessAllowed ? 'block' : 'none';\n",
       "    })();\n",
       "  </script>\n",
       "</div>\n",
       "\n",
       "    </div>\n",
       "  </div>\n"
      ],
      "text/plain": [
       "                   Team      Tournament  Goals Scored  Shots pg  Yellow Cards  \\\n",
       "24              Everton  Premier League            47      10.5            59   \n",
       "25     Bayer Leverkusen      Bundesliga            53      13.0            58   \n",
       "26  Eintracht Frankfurt      Bundesliga            69      13.2            80   \n",
       "27               Monaco         Ligue 1            76      12.8            74   \n",
       "28                 Roma         Serie A            68      14.3            84   \n",
       "\n",
       "    Red Cards  Shooting Accuracy  AerialsWon  Rating  Discipline  Own Fouls  \\\n",
       "24          2               81.4        17.7    6.73          61          1   \n",
       "25          0               84.4        13.1    6.73          58          2   \n",
       "26          1               79.6        17.9    6.73          81          3   \n",
       "27          7               82.7        16.5    6.73          81          4   \n",
       "28          3               84.5        12.1    6.71          87          5   \n",
       "\n",
       "    Opponent Fouls  \n",
       "24               1  \n",
       "25               2  \n",
       "26               3  \n",
       "27               5  \n",
       "28               6  "
      ]
     },
     "execution_count": 5,
     "metadata": {},
     "output_type": "execute_result"
    }
   ],
   "source": [
    "df.tail()"
   ]
  },
  {
   "cell_type": "markdown",
   "metadata": {
    "id": "HKyprRuVS6PP"
   },
   "source": [
    "a)how many teams participated in this tournment"
   ]
  },
  {
   "cell_type": "code",
   "execution_count": 3,
   "metadata": {
    "colab": {
     "base_uri": "https://localhost:8080/"
    },
    "executionInfo": {
     "elapsed": 437,
     "status": "ok",
     "timestamp": 1736748914857,
     "user": {
      "displayName": "Bhaumik Serasiya",
      "userId": "03848224014463904284"
     },
     "user_tz": -330
    },
    "id": "fiVGksLZTESG",
    "outputId": "6ecbea97-f63b-4041-e84a-5c12e4a7af2f"
   },
   "outputs": [
    {
     "name": "stdout",
     "output_type": "stream",
     "text": [
      "The nmber pf teams participated in this tournment : 29\n"
     ]
    }
   ],
   "source": [
    "teams_participated = df['Team'].nunique()\n",
    "print(f\"The nmber pf teams participated in this tournment : {teams_participated}\")"
   ]
  },
  {
   "cell_type": "code",
   "execution_count": 4,
   "metadata": {},
   "outputs": [
    {
     "data": {
      "text/plain": [
       "False"
      ]
     },
     "execution_count": 4,
     "metadata": {},
     "output_type": "execute_result"
    }
   ],
   "source": [
    "df.isnull().sum().any()"
   ]
  },
  {
   "cell_type": "markdown",
   "metadata": {
    "id": "Ue9t6PEdTZgR"
   },
   "source": [
    "b)list top two teams with high discipline and bottom two teams with low disciplines(you can consider red and yellow cards to calculate discipline.)"
   ]
  },
  {
   "cell_type": "code",
   "execution_count": 8,
   "metadata": {
    "colab": {
     "base_uri": "https://localhost:8080/"
    },
    "executionInfo": {
     "elapsed": 420,
     "status": "ok",
     "timestamp": 1736749484463,
     "user": {
      "displayName": "Bhaumik Serasiya",
      "userId": "03848224014463904284"
     },
     "user_tz": -330
    },
    "id": "LX5iEZBcTVR7",
    "outputId": "c1453cb4-746f-4561-c482-9766bfd11d53"
   },
   "outputs": [
    {
     "name": "stdout",
     "output_type": "stream",
     "text": [
      "Top two teams with highest discipline:\n",
      "Team\n",
      "Atletico Madrid    100\n",
      "Roma                87\n",
      "Name: Discipline, dtype: int64\n"
     ]
    }
   ],
   "source": [
    "\n",
    "top_teams=df.groupby('Team')['Discipline'].sum().nlargest(2)\n",
    "print(\"Top two teams with highest discipline:\")\n",
    "print(top_teams)"
   ]
  },
  {
   "cell_type": "code",
   "execution_count": 9,
   "metadata": {
    "colab": {
     "base_uri": "https://localhost:8080/"
    },
    "executionInfo": {
     "elapsed": 426,
     "status": "ok",
     "timestamp": 1736749573747,
     "user": {
      "displayName": "Bhaumik Serasiya",
      "userId": "03848224014463904284"
     },
     "user_tz": -330
    },
    "id": "nRFNbO_EVRVp",
    "outputId": "7a1f8ed6-c91c-47c1-d82f-2ea3e03f0429"
   },
   "outputs": [
    {
     "name": "stdout",
     "output_type": "stream",
     "text": [
      "Bottom two teams with lowest discipline:\n",
      "Team\n",
      "Liverpool            40\n",
      "Borussia Dortmund    44\n",
      "Name: Discipline, dtype: int64\n"
     ]
    }
   ],
   "source": [
    "bottom_teams=df.groupby('Team')['Discipline'].sum().nsmallest(2)\n",
    "print(\"Bottom two teams with lowest discipline:\")\n",
    "print(bottom_teams)"
   ]
  },
  {
   "cell_type": "markdown",
   "metadata": {
    "id": "pxazLHJWV51d"
   },
   "source": [
    "c)on average how many yellow cards are given per team"
   ]
  },
  {
   "cell_type": "code",
   "execution_count": 10,
   "metadata": {
    "colab": {
     "base_uri": "https://localhost:8080/"
    },
    "executionInfo": {
     "elapsed": 391,
     "status": "ok",
     "timestamp": 1736749795277,
     "user": {
      "displayName": "Bhaumik Serasiya",
      "userId": "03848224014463904284"
     },
     "user_tz": -330
    },
    "id": "IoCvX394V2JU",
    "outputId": "3e902971-0377-4e28-c0d5-94e65dab7b47"
   },
   "outputs": [
    {
     "name": "stdout",
     "output_type": "stream",
     "text": [
      "on average, 62.655172 yellpow cards are given per team.\n"
     ]
    }
   ],
   "source": [
    "average_yellow=df.groupby('Team')['Yellow Cards'].mean()\n",
    "overall_average=average_yellow.mean()\n",
    "print(f\"on average, {overall_average:2f} yellpow cards are given per team.\")"
   ]
  },
  {
   "cell_type": "markdown",
   "metadata": {
    "id": "xihiyvRaWwXa"
   },
   "source": [
    "d)how many teams scored more than 5 goals and which are those teams"
   ]
  },
  {
   "cell_type": "code",
   "execution_count": 16,
   "metadata": {
    "colab": {
     "base_uri": "https://localhost:8080/"
    },
    "executionInfo": {
     "elapsed": 367,
     "status": "ok",
     "timestamp": 1736750439980,
     "user": {
      "displayName": "Bhaumik Serasiya",
      "userId": "03848224014463904284"
     },
     "user_tz": -330
    },
    "id": "BVf0eakUWsOU",
    "outputId": "e46db4c5-a7c7-4c30-c84c-26f4b649d6f9"
   },
   "outputs": [
    {
     "name": "stdout",
     "output_type": "stream",
     "text": [
      "                   Team  Goals Scored\n",
      "0       Manchester City            83\n",
      "1         Bayern Munich            99\n",
      "2   Paris Saint-Germain            86\n",
      "3             Barcelona            85\n",
      "4           Real Madrid            67\n",
      "5     Manchester United            73\n",
      "6              Juventus            77\n",
      "7           Aston Villa            55\n",
      "8     Borussia Dortmund            75\n",
      "9       Atletico Madrid            67\n",
      "10             Atalanta            90\n",
      "11              Chelsea            58\n",
      "12            Liverpool            68\n",
      "13             AC Milan            74\n",
      "14                Lille            64\n",
      "15            Tottenham            68\n",
      "16               Napoli            86\n",
      "17            Leicester            68\n",
      "18            Wolfsburg            61\n",
      "19                Inter            89\n",
      "20                 Lyon            81\n",
      "21           RB Leipzig            60\n",
      "22                Leeds            62\n",
      "23             West Ham            62\n",
      "24              Everton            47\n",
      "25     Bayer Leverkusen            53\n",
      "26  Eintracht Frankfurt            69\n",
      "27               Monaco            76\n",
      "28                 Roma            68\n"
     ]
    }
   ],
   "source": [
    "teams_goals=df[df['Goals Scored']>5]\n",
    "num_teams_morethan_5goals=teams_goals['Team'].nunique()\n",
    "# print(f\"{num_teams_morethan_5goals} teams scored more than 5 goals.\")\n",
    "# print(\"\\n The teams that scored more than 5 goals are:\")\n",
    "print(teams_goals[['Team','Goals Scored']])"
   ]
  },
  {
   "cell_type": "markdown",
   "metadata": {
    "id": "NAlMrldZZzO9"
   },
   "source": [
    "e)which team is most accurate in shooting"
   ]
  },
  {
   "cell_type": "code",
   "execution_count": 18,
   "metadata": {
    "colab": {
     "base_uri": "https://localhost:8080/"
    },
    "executionInfo": {
     "elapsed": 477,
     "status": "ok",
     "timestamp": 1736750903019,
     "user": {
      "displayName": "Bhaumik Serasiya",
      "userId": "03848224014463904284"
     },
     "user_tz": -330
    },
    "id": "JzHtxo18YsjX",
    "outputId": "d6f8678e-f0f4-466d-b37b-e63b940c3a42"
   },
   "outputs": [
    {
     "name": "stdout",
     "output_type": "stream",
     "text": [
      "the most accurate team in shooting is: Barcelonawith a shooting accuracy of 89.7.\n",
      "\n",
      " Teams sorted by shooting accuracy:\n",
      "                   Team  Shooting Accuracy\n",
      "3             Barcelona               89.7\n",
      "2   Paris Saint-Germain               89.5\n",
      "0       Manchester City               89.4\n",
      "6              Juventus               88.3\n",
      "4           Real Madrid               87.7\n",
      "19                Inter               87.0\n",
      "16               Napoli               87.0\n",
      "11              Chelsea               87.0\n",
      "12            Liverpool               85.7\n",
      "1         Bayern Munich               85.5\n",
      "8     Borussia Dortmund               85.5\n",
      "5     Manchester United               84.8\n",
      "20                 Lyon               84.7\n",
      "28                 Roma               84.5\n",
      "25     Bayer Leverkusen               84.4\n",
      "13             AC Milan               84.0\n",
      "10             Atalanta               83.5\n",
      "14                Lille               83.5\n",
      "21           RB Leipzig               83.2\n",
      "9       Atletico Madrid               83.1\n",
      "27               Monaco               82.7\n",
      "17            Leicester               82.1\n",
      "15            Tottenham               81.8\n",
      "24              Everton               81.4\n",
      "22                Leeds               80.8\n",
      "26  Eintracht Frankfurt               79.6\n",
      "7           Aston Villa               78.6\n",
      "18            Wolfsburg               78.0\n",
      "23             West Ham               77.8\n"
     ]
    }
   ],
   "source": [
    "most_accurate_team=df.loc[df['Shooting Accuracy'].idxmax()]\n",
    "print(f\"the most accurate team in shooting is: {most_accurate_team['Team']}\"\n",
    "f\"with a shooting accuracy of {most_accurate_team['Shooting Accuracy']}.\")\n",
    "sorted_teams_by_accuracy=df.sort_values(by='Shooting Accuracy',ascending=False)\n",
    "print(\"\\n Teams sorted by shooting accuracy:\")\n",
    "print(sorted_teams_by_accuracy[['Team','Shooting Accuracy']])"
   ]
  },
  {
   "cell_type": "markdown",
   "metadata": {
    "id": "RPUTk7XHa4qO"
   },
   "source": [
    "F)How many teams made more fouls than their opponents?"
   ]
  },
  {
   "cell_type": "code",
   "execution_count": 25,
   "metadata": {},
   "outputs": [
    {
     "name": "stdout",
     "output_type": "stream",
     "text": [
      "['Juventus' 'Aston Villa' 'Liverpool' 'AC Milan' 'Lille' 'Tottenham'\n",
      " 'Wolfsburg' 'Inter' 'Lyon' 'RB Leipzig' 'Leeds' 'West Ham']\n",
      "           Team  Own Fouls  Opponent Fouls\n",
      "6      Juventus          7               1\n",
      "7   Aston Villa          8               2\n",
      "12    Liverpool          5               1\n",
      "13     AC Milan          6               2\n",
      "14        Lille          7               3\n",
      "15    Tottenham          8               5\n",
      "18    Wolfsburg          3               1\n",
      "19        Inter          4               2\n",
      "20         Lyon          5               3\n",
      "21   RB Leipzig          6               5\n",
      "22        Leeds          7               6\n",
      "23     West Ham          8               7\n"
     ]
    }
   ],
   "source": [
    "import pandas as pd\n",
    "fouls=df[df['Own Fouls'] >df['Opponent Fouls']]\n",
    "more_Fouls=fouls['Team'].unique()\n",
    "print(more_Fouls)\n",
    "print(fouls[['Team','Own Fouls','Opponent Fouls']])"
   ]
  },
  {
   "cell_type": "code",
   "execution_count": 29,
   "metadata": {},
   "outputs": [
    {
     "name": "stdout",
     "output_type": "stream",
     "text": [
      "False\n",
      "False\n",
      "False\n",
      "False\n",
      "True\n",
      "False\n",
      "False\n",
      "True\n"
     ]
    }
   ],
   "source": [
    "import math\n",
    "#chech wheather some values are NaN or not\n",
    "print(math.isnan(56))\n",
    "print(math.isnan(-45.34))\n",
    "print(math.isnan(+45.34))\n",
    "print(math.isnan(math.inf))\n",
    "print(math.isnan(float(\"nan\")))\n",
    "print(math.isnan(float(\"inf\")))\n",
    "print(math.isnan(float(\"-inf\")))\n",
    "print(math.isnan(math.nan))\n",
    "\n",
    "\n",
    "\n",
    "\n",
    "\n",
    "\n",
    "\n"
   ]
  },
  {
   "cell_type": "code",
   "execution_count": 7,
   "metadata": {},
   "outputs": [
    {
     "name": "stdout",
     "output_type": "stream",
     "text": [
      "2\n",
      "(3, 3)\n",
      "9\n"
     ]
    }
   ],
   "source": [
    "import numpy\n",
    "x=numpy.array([[1,2,3],[4,5,6],[7,8,9]])\n",
    "print(x.ndim)\n",
    "print(x.shape)\n",
    "print(x.size)\n"
   ]
  },
  {
   "cell_type": "code",
   "execution_count": 35,
   "metadata": {},
   "outputs": [
    {
     "data": {
      "text/plain": [
       "array([20, 29, 38, 47, 56])"
      ]
     },
     "execution_count": 35,
     "metadata": {},
     "output_type": "execute_result"
    }
   ],
   "source": [
    "a=numpy.array([20,30,40,50,60])\n",
    "b=numpy.arange(5)\n",
    "c=a-b\n",
    "c"
   ]
  },
  {
   "cell_type": "code",
   "execution_count": 43,
   "metadata": {},
   "outputs": [
    {
     "name": "stdout",
     "output_type": "stream",
     "text": [
      "2\n",
      "(4, 2)\n",
      "8\n"
     ]
    }
   ],
   "source": [
    "a=numpy.array([[1,2],[3,4],[5,6],[7,8]])\n",
    "print(a.ndim)\n",
    "print(a.shape)\n",
    "print(a.size)"
   ]
  },
  {
   "cell_type": "code",
   "execution_count": 9,
   "metadata": {},
   "outputs": [
    {
     "data": {
      "text/plain": [
       "array([20, 29, 38, 47, 56])"
      ]
     },
     "execution_count": 9,
     "metadata": {},
     "output_type": "execute_result"
    }
   ],
   "source": [
    "a=numpy.array([20,30,40,50,60])\n",
    "b=numpy.arange(5)\n",
    "c=a-b\n",
    "c"
   ]
  },
  {
   "cell_type": "code",
   "execution_count": 47,
   "metadata": {},
   "outputs": [
    {
     "data": {
      "text/plain": [
       "array([ 0.84147098,  0.90929743,  0.14112001, -0.7568025 , -0.95892427])"
      ]
     },
     "execution_count": 47,
     "metadata": {},
     "output_type": "execute_result"
    }
   ],
   "source": [
    "x=numpy.array([1,2,3,4,5])\n",
    "avg=x.mean()\n",
    "sum=x.sum()\n",
    "sx=numpy.sin(x)\n",
    "sx"
   ]
  },
  {
   "cell_type": "code",
   "execution_count": null,
   "metadata": {},
   "outputs": [],
   "source": []
  },
  {
   "cell_type": "code",
   "execution_count": null,
   "metadata": {},
   "outputs": [],
   "source": []
  },
  {
   "cell_type": "code",
   "execution_count": null,
   "metadata": {},
   "outputs": [],
   "source": []
  },
  {
   "cell_type": "code",
   "execution_count": null,
   "metadata": {},
   "outputs": [],
   "source": []
  },
  {
   "cell_type": "code",
   "execution_count": null,
   "metadata": {},
   "outputs": [],
   "source": []
  },
  {
   "cell_type": "code",
   "execution_count": null,
   "metadata": {},
   "outputs": [],
   "source": []
  },
  {
   "cell_type": "code",
   "execution_count": null,
   "metadata": {},
   "outputs": [],
   "source": []
  }
 ],
 "metadata": {
  "colab": {
   "authorship_tag": "ABX9TyM1kVtDz4OrNi7NG2p8OEJH",
   "provenance": []
  },
  "kernelspec": {
   "display_name": "Python 3 (ipykernel)",
   "language": "python",
   "name": "python3"
  },
  "language_info": {
   "codemirror_mode": {
    "name": "ipython",
    "version": 3
   },
   "file_extension": ".py",
   "mimetype": "text/x-python",
   "name": "python",
   "nbconvert_exporter": "python",
   "pygments_lexer": "ipython3",
   "version": "3.11.7"
  }
 },
 "nbformat": 4,
 "nbformat_minor": 4
}
