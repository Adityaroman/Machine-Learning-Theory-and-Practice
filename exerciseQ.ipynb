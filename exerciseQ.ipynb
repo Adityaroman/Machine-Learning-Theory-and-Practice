{
 "cells": [
  {
   "cell_type": "code",
   "execution_count": 3,
   "id": "13b08b99-2104-4ed1-8277-ad6ce0681d5e",
   "metadata": {},
   "outputs": [],
   "source": [
    "import pandas as pd"
   ]
  },
  {
   "cell_type": "code",
   "execution_count": 26,
   "id": "bc380edd-e5ca-48b6-9604-c00a493c95c4",
   "metadata": {},
   "outputs": [
    {
     "data": {
      "text/plain": [
       "a    python\n",
       "b      java\n",
       "c      html\n",
       "dtype: object"
      ]
     },
     "execution_count": 26,
     "metadata": {},
     "output_type": "execute_result"
    }
   ],
   "source": [
    "se=pd.Series(['python','java','html'],index=['a','b','c'])\n",
    "se"
   ]
  },
  {
   "cell_type": "code",
   "execution_count": 18,
   "id": "ebcd134d-705b-43f3-aa1d-46ae4bb56802",
   "metadata": {},
   "outputs": [
    {
     "data": {
      "text/plain": [
       "a        10\n",
       "b    python\n",
       "c     20.25\n",
       "dtype: object"
      ]
     },
     "execution_count": 18,
     "metadata": {},
     "output_type": "execute_result"
    }
   ],
   "source": [
    "s1 = pd.Series([10,'python',20.25],index=['a','b','c'])\n",
    "s1"
   ]
  },
  {
   "cell_type": "code",
   "execution_count": 44,
   "id": "985e08ea-32fa-4525-a97e-2b5718ea725a",
   "metadata": {},
   "outputs": [
    {
     "name": "stdout",
     "output_type": "stream",
     "text": [
      "0    a\n",
      "1    b\n",
      "2    1\n",
      "3    2\n",
      "4    3\n",
      "dtype: object\n"
     ]
    }
   ],
   "source": [
    "src=['a','b',1,2,3]\n",
    "src1=pd.Series(src)\n",
    "print(src1)"
   ]
  },
  {
   "cell_type": "code",
   "execution_count": 64,
   "id": "14b699f9-158e-4502-a76b-25f57840ca1c",
   "metadata": {},
   "outputs": [
    {
     "data": {
      "text/plain": [
       "0        a\n",
       "1     True\n",
       "2    False\n",
       "3        1\n",
       "4        2\n",
       "dtype: object"
      ]
     },
     "execution_count": 64,
     "metadata": {},
     "output_type": "execute_result"
    }
   ],
   "source": [
    "abc=['a',True,False,1,2]\n",
    "abc1=pd.Series(abc)\n",
    "print(abc1)"
   ]
  },
  {
   "cell_type": "code",
   "execution_count": 66,
   "id": "4c94edd2-f784-422a-80c1-474452ece333",
   "metadata": {},
   "outputs": [
    {
     "data": {
      "text/plain": [
       "0     1\n",
       "1     2\n",
       "2     3\n",
       "3    44\n",
       "4     5\n",
       "5     6\n",
       "dtype: int64"
      ]
     },
     "execution_count": 66,
     "metadata": {},
     "output_type": "execute_result"
    }
   ],
   "source": [
    "df=pd.Series([1,2,3,44,5,6])\n",
    "df\n"
   ]
  },
  {
   "cell_type": "code",
   "execution_count": 116,
   "id": "2f8758cd-5951-4d8c-baa0-e158c2127894",
   "metadata": {},
   "outputs": [
    {
     "ename": "AttributeError",
     "evalue": "'dict' object has no attribute 'DataFrame'",
     "output_type": "error",
     "traceback": [
      "\u001b[1;31m---------------------------------------------------------------------------\u001b[0m",
      "\u001b[1;31mAttributeError\u001b[0m                            Traceback (most recent call last)",
      "Cell \u001b[1;32mIn[116], line 3\u001b[0m\n\u001b[0;32m      1\u001b[0m \u001b[38;5;28;01mimport\u001b[39;00m \u001b[38;5;21;01mpandas\u001b[39;00m \u001b[38;5;28;01mas\u001b[39;00m \u001b[38;5;21;01mpd\u001b[39;00m\n\u001b[0;32m      2\u001b[0m pd\u001b[38;5;241m=\u001b[39m{\u001b[38;5;124m'\u001b[39m\u001b[38;5;124mX\u001b[39m\u001b[38;5;124m'\u001b[39m:[\u001b[38;5;241m22\u001b[39m,\u001b[38;5;241m33\u001b[39m,\u001b[38;5;241m44\u001b[39m,\u001b[38;5;241m66\u001b[39m,\u001b[38;5;241m77\u001b[39m,\u001b[38;5;241m88\u001b[39m],\u001b[38;5;124m'\u001b[39m\u001b[38;5;124mY\u001b[39m\u001b[38;5;124m'\u001b[39m:[\u001b[38;5;241m22\u001b[39m,\u001b[38;5;241m44\u001b[39m,\u001b[38;5;241m5\u001b[39m,\u001b[38;5;241m5\u001b[39m,\u001b[38;5;241m6\u001b[39m,\u001b[38;5;241m7\u001b[39m],\u001b[38;5;124m'\u001b[39m\u001b[38;5;124mZ\u001b[39m\u001b[38;5;124m'\u001b[39m:[\u001b[38;5;241m1\u001b[39m,\u001b[38;5;241m3\u001b[39m,\u001b[38;5;241m4\u001b[39m,\u001b[38;5;241m5\u001b[39m,\u001b[38;5;241m6\u001b[39m,\u001b[38;5;241m7\u001b[39m,\u001b[38;5;241m88\u001b[39m,\u001b[38;5;241m9\u001b[39m]}\n\u001b[1;32m----> 3\u001b[0m pd1\u001b[38;5;241m=\u001b[39mpd\u001b[38;5;241m.\u001b[39mDataFrame(pd)\n\u001b[0;32m      4\u001b[0m \u001b[38;5;28mprint\u001b[39m(pd1)\n",
      "\u001b[1;31mAttributeError\u001b[0m: 'dict' object has no attribute 'DataFrame'"
     ]
    }
   ],
   "source": [
    "pd={'X':[22,33,44,66,77,88],'Y':[22,44,5,5,6,7],'Z':[1,3,4,5,6,7,88,9]}\n",
    "pd1=pd.DataFrame(pd)\n",
    "print(pd1)\n"
   ]
  },
  {
   "cell_type": "code",
   "execution_count": 108,
   "id": "7891162e-d6c4-4f83-a69a-055be5f7870a",
   "metadata": {},
   "outputs": [
    {
     "name": "stdout",
     "output_type": "stream",
     "text": [
      "       Name  Age       City  Marks\n",
      "0      JOhn   50     austin     70\n",
      "1  Cataline   45  Francisco     80\n",
      "2      Matt   30     Boston     95\n"
     ]
    }
   ],
   "source": [
    "pd_dict = {\"Name\": [\"JOhn\",\"Cataline\",\"Matt\"], \"Age\": [50,45,30],\"City\": [\"austin\",\"Francisco\",\"Boston\"],\"Marks\": [70,80,95]}\n",
    "pd1 = pd.DataFrame(pd_dict)\n",
    "print(pd1)"
   ]
  },
  {
   "cell_type": "code",
   "execution_count": 88,
   "id": "19f51a9c-01ca-42ab-a36f-14e6b3a860d1",
   "metadata": {},
   "outputs": [
    {
     "name": "stdout",
     "output_type": "stream",
     "text": [
      "       Name  Age           City  Marks\n",
      "0      John   50         Austin     70\n",
      "1  Cataline   45  San Francisco     80\n",
      "2      Matt   30         Boston     95\n"
     ]
    }
   ],
   "source": [
    "import pandas as pd\n",
    "\n",
    "pd_dict = {\"Name\": [\"John\", \"Cataline\", \"Matt\"],\n",
    "           \"Age\": [50, 45, 30],\n",
    "           \"City\": [\"Austin\", \"San Francisco\", \"Boston\"],\n",
    "           \"Marks\": [70, 80, 95]}\n",
    "\n",
    "pd1 = pd.DataFrame(pd_dict)\n",
    "print(pd1)\n"
   ]
  },
  {
   "cell_type": "code",
   "execution_count": 2,
   "id": "5423f00c-d1ef-4d85-8038-d74c3fc4c5c2",
   "metadata": {},
   "outputs": [
    {
     "name": "stdout",
     "output_type": "stream",
     "text": [
      "       Name\n",
      "0      john\n",
      "1  Cataline\n",
      "2      Matt\n"
     ]
    }
   ],
   "source": [
    "import pandas as pd\n",
    "list={\n",
    "    \"Name\":[\"john\",\"Cataline\",\"Matt\"],\n",
    "    \"Name\":[\"john\",\"Cataline\",\"Matt\"],\n",
    "}\n",
    "list1=pd.DataFrame(list)\n",
    "print(list1)"
   ]
  },
  {
   "cell_type": "code",
   "execution_count": 7,
   "id": "d85f437d-e337-489b-af0d-750c4dba373d",
   "metadata": {},
   "outputs": [
    {
     "name": "stdout",
     "output_type": "stream",
     "text": [
      "day1    420\n",
      "day2    280\n",
      "dtype: int64\n"
     ]
    }
   ],
   "source": [
    "import pandas as pd\n",
    "calories={\"day1\":420,\"day2\":280}\n",
    "myvar=pd.Series(calories, index=[\"day1\",\"day2\"])\n",
    "print(myvar)\n",
    "       "
   ]
  },
  {
   "cell_type": "code",
   "execution_count": 15,
   "id": "d53960ff-a0cd-4733-a5ba-053ec058688f",
   "metadata": {},
   "outputs": [
    {
     "name": "stdout",
     "output_type": "stream",
     "text": [
      "day1    420\n",
      "day2    280\n",
      "dtype: int64\n"
     ]
    },
    {
     "ename": "NameError",
     "evalue": "name 'df' is not defined",
     "output_type": "error",
     "traceback": [
      "\u001b[1;31m---------------------------------------------------------------------------\u001b[0m",
      "\u001b[1;31mNameError\u001b[0m                                 Traceback (most recent call last)",
      "Cell \u001b[1;32mIn[15], line 5\u001b[0m\n\u001b[0;32m      3\u001b[0m myvar\u001b[38;5;241m=\u001b[39mpd\u001b[38;5;241m.\u001b[39mSeries(calories)\n\u001b[0;32m      4\u001b[0m \u001b[38;5;28mprint\u001b[39m(myvar)\n\u001b[1;32m----> 5\u001b[0m \u001b[38;5;28mprint\u001b[39m(df\u001b[38;5;241m.\u001b[39mloc[[\u001b[38;5;241m0\u001b[39m,\u001b[38;5;241m1\u001b[39m]])\n",
      "\u001b[1;31mNameError\u001b[0m: name 'df' is not defined"
     ]
    }
   ],
   "source": [
    "import pandas as pd\n",
    "calories={\"day1\":420,\"day2\":280}\n",
    "myvar=pd.Series(calories)\n",
    "print(myvar)\n",
    "print(df.loc[[0,1]])       "
   ]
  },
  {
   "cell_type": "code",
   "execution_count": 37,
   "id": "e31b12c3-af46-4907-9698-c545accc8922",
   "metadata": {},
   "outputs": [
    {
     "ename": "SyntaxError",
     "evalue": "invalid syntax (1895942059.py, line 2)",
     "output_type": "error",
     "traceback": [
      "\u001b[1;36m  Cell \u001b[1;32mIn[37], line 2\u001b[1;36m\u001b[0m\n\u001b[1;33m    \"calories\"=:[122,344,555],\u001b[0m\n\u001b[1;37m              ^\u001b[0m\n\u001b[1;31mSyntaxError\u001b[0m\u001b[1;31m:\u001b[0m invalid syntax\n"
     ]
    }
   ],
   "source": [
    "data={\n",
    "    \"calories\"=:[122,344,555],\n",
    "    \"duration\"=:[102,340,585],\n",
    "}\n",
    "df=pd.DataFrame(data,index=[\"day1\",\"day2\",\"day3\"])\n",
    "print(df)"
   ]
  },
  {
   "cell_type": "code",
   "execution_count": 17,
   "id": "4a88e6b0-62a6-4c5d-9d9f-651c12fc0110",
   "metadata": {},
   "outputs": [
    {
     "ename": "NameError",
     "evalue": "name 'np' is not defined",
     "output_type": "error",
     "traceback": [
      "\u001b[1;31m---------------------------------------------------------------------------\u001b[0m",
      "\u001b[1;31mNameError\u001b[0m                                 Traceback (most recent call last)",
      "Cell \u001b[1;32mIn[17], line 7\u001b[0m\n\u001b[0;32m      1\u001b[0m \u001b[38;5;66;03m#np.abs __> to convert no in positive \u001b[39;00m\n\u001b[0;32m      2\u001b[0m \u001b[38;5;66;03m#np.round __. giives round values\u001b[39;00m\n\u001b[0;32m      3\u001b[0m \u001b[38;5;66;03m# matrix=np.arange(2,11).reshape(3,3)\u001b[39;00m\n\u001b[0;32m      4\u001b[0m \u001b[38;5;66;03m# print(\"3*3 Matrix:\\n\",matrix)\u001b[39;00m\n\u001b[0;32m      5\u001b[0m \u001b[38;5;66;03m#pd.series\u001b[39;00m\n\u001b[0;32m      6\u001b[0m b\u001b[38;5;241m=\u001b[39m([\u001b[38;5;241m1\u001b[39m,\u001b[38;5;241m2\u001b[39m,\u001b[38;5;241m3\u001b[39m,\u001b[38;5;241m4\u001b[39m,\u001b[38;5;241m55\u001b[39m,])\n\u001b[1;32m----> 7\u001b[0m a\u001b[38;5;241m=\u001b[39mnp\u001b[38;5;241m.\u001b[39mSeries(b)\n\u001b[0;32m      8\u001b[0m \u001b[38;5;28mprint\u001b[39m(a)\n",
      "\u001b[1;31mNameError\u001b[0m: name 'np' is not defined"
     ]
    }
   ],
   "source": [
    "#np.abs __> to convert no in positive \n",
    "#np.round __. giives round values\n",
    "# matrix=np.arange(2,11).reshape(3,3)\n",
    "# print(\"3*3 Matrix:\\n\",matrix)\n",
    "#pd.series\n",
    "b=([1,2,3,4,55,])\n",
    "a=np.Series(b)\n",
    "print(a)\n",
    "#pd.series can convert frome list of element to series of element"
   ]
  }
 ],
 "metadata": {
  "kernelspec": {
   "display_name": "Python 3 (ipykernel)",
   "language": "python",
   "name": "python3"
  },
  "language_info": {
   "codemirror_mode": {
    "name": "ipython",
    "version": 3
   },
   "file_extension": ".py",
   "mimetype": "text/x-python",
   "name": "python",
   "nbconvert_exporter": "python",
   "pygments_lexer": "ipython3",
   "version": "3.11.7"
  }
 },
 "nbformat": 4,
 "nbformat_minor": 5
}
