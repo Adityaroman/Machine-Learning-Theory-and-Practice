{
 "cells": [
  {
   "cell_type": "code",
   "execution_count": 11,
   "id": "f9d33018-4f0e-4d31-a69d-91cc572f5af8",
   "metadata": {},
   "outputs": [
    {
     "ename": "NameError",
     "evalue": "name 'train_test_spilt' is not defined",
     "output_type": "error",
     "traceback": [
      "\u001b[1;31m---------------------------------------------------------------------------\u001b[0m",
      "\u001b[1;31mNameError\u001b[0m                                 Traceback (most recent call last)",
      "Cell \u001b[1;32mIn[11], line 11\u001b[0m\n\u001b[0;32m      8\u001b[0m X \u001b[38;5;241m=\u001b[39m df[[\u001b[38;5;124m'\u001b[39m\u001b[38;5;124msepal_length\u001b[39m\u001b[38;5;124m'\u001b[39m, \u001b[38;5;124m'\u001b[39m\u001b[38;5;124msepal_width\u001b[39m\u001b[38;5;124m'\u001b[39m,\u001b[38;5;124m'\u001b[39m\u001b[38;5;124mpetal_length\u001b[39m\u001b[38;5;124m'\u001b[39m,\u001b[38;5;124m'\u001b[39m\u001b[38;5;124mpetal_width\u001b[39m\u001b[38;5;124m'\u001b[39m]]\n\u001b[0;32m      9\u001b[0m Y \u001b[38;5;241m=\u001b[39m df[\u001b[38;5;124m'\u001b[39m\u001b[38;5;124mspecies\u001b[39m\u001b[38;5;124m'\u001b[39m]\n\u001b[1;32m---> 11\u001b[0m X_train, X_test, Y_train,Y_test \u001b[38;5;241m=\u001b[39m train_test_spilt(X, Y, test_size\u001b[38;5;241m=\u001b[39m\u001b[38;5;241m0.3\u001b[39m, random_state\u001b[38;5;241m=\u001b[39m\u001b[38;5;241m42\u001b[39m)\n\u001b[0;32m     12\u001b[0m dtree \u001b[38;5;241m=\u001b[39m DecisionTreeClassifier(criterion\u001b[38;5;241m=\u001b[39m\u001b[38;5;124m'\u001b[39m\u001b[38;5;124mgini\u001b[39m\u001b[38;5;124m'\u001b[39m,max_depth\u001b[38;5;241m=\u001b[39m\u001b[38;5;241m3\u001b[39m,random_state\u001b[38;5;241m=\u001b[39m\u001b[38;5;241m42\u001b[39m)\n\u001b[0;32m     13\u001b[0m dtree\u001b[38;5;241m.\u001b[39mfit(X_train,  Y_train)\n",
      "\u001b[1;31mNameError\u001b[0m: name 'train_test_spilt' is not defined"
     ]
    }
   ],
   "source": [
    "import pandas as pd \n",
    "from sklearn.model_selection import train_test_split\n",
    "from sklearn.tree import DecisionTreeClassifier, export_text\n",
    "from sklearn.metrics import confusion_matrix, accuracy_score\n",
    "\n",
    "df = pd.read_csv(\"iris_data.csv\")\n",
    "df\n",
    "X = df[['sepal_length', 'sepal_width','petal_length','petal_width']]\n",
    "Y = df['species']\n",
    "\n",
    "X_train, X_test, Y_train,Y_test = train_test_spilt(X, Y, test_size=0.3, random_state=42)\n",
    "dtree = DecisionTreeClassifier(criterion='gini',max_depth=3,random_state=42)\n",
    "dtree.fit(X_train,  Y_train)\n",
    "Y_pred = dtree.predict(X_test)\n",
    "print(\"Accuracy:\", accuracy_score(Y_test,Y_pred))\n",
    "print(\"\\nConfusion Matrix:\\n\", confusion_matrix(Y_test,Y_pred))"
   ]
  },
  {
   "cell_type": "code",
   "execution_count": 9,
   "id": "40b26bba-dd9f-48d7-977d-640956fcfb51",
   "metadata": {},
   "outputs": [
    {
     "name": "stdout",
     "output_type": "stream",
     "text": [
      "Accuracy: 1.0\n",
      "\n",
      "Confusion Matrix:\n",
      " [[19  0  0]\n",
      " [ 0 13  0]\n",
      " [ 0  0 13]]\n"
     ]
    }
   ],
   "source": [
    "import pandas as pd \n",
    "from sklearn.model_selection import train_test_split\n",
    "from sklearn.tree import DecisionTreeClassifier\n",
    "from sklearn.metrics import confusion_matrix, accuracy_score\n",
    "\n",
    "# Load the dataset\n",
    "df = pd.read_csv(\"iris_data.csv\")\n",
    "\n",
    "# Define features and target\n",
    "X = df[['sepal_length', 'sepal_width', 'petal_length', 'petal_width']]\n",
    "Y = df['species']\n",
    "\n",
    "# Split the data into training and testing sets\n",
    "X_train, X_test, Y_train, Y_test = train_test_split(X, Y, test_size=0.3, random_state=42)\n",
    "\n",
    "# Create and train the decision tree model\n",
    "dtree = DecisionTreeClassifier(criterion='gini', max_depth=3, random_state=42)\n",
    "dtree.fit(X_train, Y_train)\n",
    "\n",
    "# Make predictions\n",
    "Y_pred = dtree.predict(X_test)\n",
    "\n",
    "# Print accuracy and confusion matrix\n",
    "print(\"Accuracy:\", accuracy_score(Y_test, Y_pred))\n",
    "print(\"\\nConfusion Matrix:\\n\", confusion_matrix(Y_test, Y_pred))\n"
   ]
  },
  {
   "cell_type": "code",
   "execution_count": null,
   "id": "93e54997-527f-48b8-88e6-a8cca947ab78",
   "metadata": {},
   "outputs": [],
   "source": []
  }
 ],
 "metadata": {
  "kernelspec": {
   "display_name": "Python 3 (ipykernel)",
   "language": "python",
   "name": "python3"
  },
  "language_info": {
   "codemirror_mode": {
    "name": "ipython",
    "version": 3
   },
   "file_extension": ".py",
   "mimetype": "text/x-python",
   "name": "python",
   "nbconvert_exporter": "python",
   "pygments_lexer": "ipython3",
   "version": "3.11.7"
  }
 },
 "nbformat": 4,
 "nbformat_minor": 5
}
