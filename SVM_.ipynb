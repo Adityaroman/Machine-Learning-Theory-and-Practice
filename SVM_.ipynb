{
 "cells": [
  {
   "cell_type": "code",
   "execution_count": 9,
   "id": "2844a755-a29d-4e3d-9c14-1ff4fcb5c2af",
   "metadata": {},
   "outputs": [
    {
     "name": "stdout",
     "output_type": "stream",
     "text": [
      "Model Accuracy: 50.00%\n",
      "Spam\n"
     ]
    }
   ],
   "source": [
    "# SVM implementation in Python\n",
    "import pandas as pd\n",
    "import numpy as np\n",
    "from sklearn.model_selection import train_test_split \n",
    "from sklearn.feature_extraction.text import CountVectorizer \n",
    "from sklearn.svm import SVC \n",
    "from sklearn.metrics import accuracy_score \n",
    "\n",
    "# Sample dataset: Emails and their labels\n",
    "data = {\n",
    "    \"email\": [\n",
    "        \"Win a free lottery now\",\n",
    "        \"Important meeting at 5 PM\",\n",
    "        \"Congratulations! You won a prize\",\n",
    "        \"Please review the attached report\",\n",
    "        \"Claim your free gift today\",\n",
    "        \"Your invoice is attached\"],\n",
    "    \"label\": [1, 0, 1, 0, 1, 0]  # 1 = Spam, 0 = Not Spam\n",
    "}\n",
    "\n",
    "# Convert to DataFrame\n",
    "df = pd.DataFrame(data)\n",
    "\n",
    "# Convert text data to numerical form\n",
    "vectorizer = CountVectorizer()\n",
    "X = vectorizer.fit_transform(df[\"email\"])\n",
    "\n",
    "# Define labels\n",
    "y = df[\"label\"]\n",
    "\n",
    "# Split data into training and testing sets\n",
    "X_train, X_test, y_train, y_test = train_test_split(X, y, test_size=0.2, random_state=42)\n",
    "\n",
    "# Train SVM model\n",
    "svm_model = SVC(kernel=\"linear\")  # Linear SVM for classification\n",
    "svm_model.fit(X_train, y_train)\n",
    "\n",
    "# Predictions\n",
    "y_pred = svm_model.predict(X_test)\n",
    "\n",
    "# Model accuracy\n",
    "accuracy = accuracy_score(y_test, y_pred)\n",
    "\n",
    "print(f\"Model Accuracy: {accuracy * 100:.2f}%\")\n",
    "\n",
    "# Test with a new email\n",
    "new_email = [\"Congratulations! You won\"]\n",
    "new_email_vectorized = vectorizer.transform(new_email)\n",
    "\n",
    "prediction = svm_model.predict(new_email_vectorized)\n",
    "\n",
    "print(\"Spam\" if prediction[0] == 1 else \"Not Spam\")\n"
   ]
  },
  {
   "cell_type": "code",
   "execution_count": 11,
   "id": "f6c15ce2-5b86-4dec-8693-b595da50dc23",
   "metadata": {},
   "outputs": [
    {
     "name": "stdout",
     "output_type": "stream",
     "text": [
      "Accuracy: 1.0\n",
      "\n",
      "Confusion Matrix:\n",
      " [[10  0  0]\n",
      " [ 0  9  0]\n",
      " [ 0  0 11]]\n"
     ]
    }
   ],
   "source": [
    "import pandas as pd\n",
    "from sklearn.svm import SVC\n",
    "from sklearn.model_selection import train_test_split\n",
    "from sklearn.metrics import accuracy_score, confusion_matrix\n",
    "\n",
    "# Load the dataset\n",
    "df = pd.read_csv(\"iris_data.csv\")\n",
    "\n",
    "# Define features (X) and target (Y)\n",
    "X = df[['sepal_length', 'sepal_width', 'petal_length', 'petal_width']]\n",
    "Y = df['species']\n",
    "\n",
    "# Split dataset into training and testing sets (80% train, 20% test)\n",
    "X_train, X_test, Y_train, Y_test = train_test_split(X, Y, test_size=0.2, random_state=42)\n",
    "\n",
    "# Train SVM model with a linear kernel\n",
    "svm_model = SVC(kernel='linear')\n",
    "svm_model.fit(X_train, Y_train)\n",
    "\n",
    "# Make predictions\n",
    "Y_pred = svm_model.predict(X_test)\n",
    "\n",
    "# Print model accuracy\n",
    "print(\"Accuracy:\", accuracy_score(Y_test, Y_pred))\n",
    "\n",
    "# Print confusion matrix\n",
    "print(\"\\nConfusion Matrix:\\n\", confusion_matrix(Y_test, Y_pred))\n"
   ]
  },
  {
   "cell_type": "code",
   "execution_count": null,
   "id": "2b8ee3bb-1921-4fea-801d-a737134078df",
   "metadata": {},
   "outputs": [],
   "source": []
  }
 ],
 "metadata": {
  "kernelspec": {
   "display_name": "Python 3 (ipykernel)",
   "language": "python",
   "name": "python3"
  },
  "language_info": {
   "codemirror_mode": {
    "name": "ipython",
    "version": 3
   },
   "file_extension": ".py",
   "mimetype": "text/x-python",
   "name": "python",
   "nbconvert_exporter": "python",
   "pygments_lexer": "ipython3",
   "version": "3.11.7"
  }
 },
 "nbformat": 4,
 "nbformat_minor": 5
}
