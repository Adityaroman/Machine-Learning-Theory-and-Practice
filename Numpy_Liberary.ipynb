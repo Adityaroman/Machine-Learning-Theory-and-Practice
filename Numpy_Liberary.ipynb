{
 "cells": [
  {
   "cell_type": "code",
   "execution_count": 5,
   "id": "28a64fab-c57d-4d50-8425-a953a8a8dde7",
   "metadata": {},
   "outputs": [],
   "source": [
    "import numpy as np"
   ]
  },
  {
   "cell_type": "code",
   "execution_count": 62,
   "id": "4445c858-17be-4bf0-973a-9853810cf562",
   "metadata": {},
   "outputs": [
    {
     "data": {
      "text/plain": [
       "array([1, 2, 3, 4, 5])"
      ]
     },
     "execution_count": 62,
     "metadata": {},
     "output_type": "execute_result"
    }
   ],
   "source": [
    "# 1D Array\n",
    "# Syntax: np.array([values])\n",
    "a1 = np.array([1,2,3,4,5])\n",
    "a1\n"
   ]
  },
  {
   "cell_type": "code",
   "execution_count": 60,
   "id": "fa3bdadc-ac8e-4d58-92a7-dc4426e0c33b",
   "metadata": {},
   "outputs": [
    {
     "name": "stdout",
     "output_type": "stream",
     "text": [
      "<class 'numpy.ndarray'>\n"
     ]
    }
   ],
   "source": [
    "a2=np.array([1.1,2.2,3.3,4.4,5.5])\n",
    "a2\n",
    "print(type(a1))"
   ]
  },
  {
   "cell_type": "code",
   "execution_count": 58,
   "id": "e4070fee-2d9c-4260-b50d-9c46179731c9",
   "metadata": {},
   "outputs": [
    {
     "data": {
      "text/plain": [
       "array([1. , 2. , 3.3])"
      ]
     },
     "execution_count": 58,
     "metadata": {},
     "output_type": "execute_result"
    }
   ],
   "source": [
    "a3=np.array([1,2,3.3])  #numpy automaticaly typecast here\n",
    "a3"
   ]
  },
  {
   "cell_type": "code",
   "execution_count": 27,
   "id": "1fcf6de6-1174-498d-8ce4-1ab4cc340c10",
   "metadata": {},
   "outputs": [
    {
     "data": {
      "text/plain": [
       "array(['1', '2', '3', '4', 'hi'], dtype='<U11')"
      ]
     },
     "execution_count": 27,
     "metadata": {},
     "output_type": "execute_result"
    }
   ],
   "source": [
    "a4=np.array([1,2,3,4, \"hi\"])\n",
    "a4"
   ]
  },
  {
   "cell_type": "code",
   "execution_count": 35,
   "id": "fbdba431-cfd9-459f-b96d-cd2a8f8ac789",
   "metadata": {},
   "outputs": [
    {
     "data": {
      "text/plain": [
       "array([1, 2, 3])"
      ]
     },
     "execution_count": 35,
     "metadata": {},
     "output_type": "execute_result"
    }
   ],
   "source": [
    "a5=np.array([1,2,3.3], 'int')\n",
    "a5"
   ]
  },
  {
   "cell_type": "code",
   "execution_count": 37,
   "id": "0f8d1144-f6df-4768-97d1-a8b6190b0209",
   "metadata": {},
   "outputs": [
    {
     "data": {
      "text/plain": [
       "array([1. , 2. , 3.3])"
      ]
     },
     "execution_count": 37,
     "metadata": {},
     "output_type": "execute_result"
    }
   ],
   "source": [
    "a6=np.array([1,2,3.3], 'float')\n",
    "a6"
   ]
  },
  {
   "cell_type": "code",
   "execution_count": 7,
   "id": "6380b45a-59f2-4a98-9e5c-6a43c31d17dd",
   "metadata": {},
   "outputs": [
    {
     "data": {
      "text/plain": [
       "array([ 1,  4,  7, 10])"
      ]
     },
     "execution_count": 7,
     "metadata": {},
     "output_type": "execute_result"
    }
   ],
   "source": [
    "a1=np.arange(1,11,3)\n",
    "a1"
   ]
  },
  {
   "cell_type": "code",
   "execution_count": 48,
   "id": "b1604261-b796-4a2b-87f6-bcb7e9c10935",
   "metadata": {},
   "outputs": [
    {
     "ename": "AttributeError",
     "evalue": "module 'numpy' has no attribute 'arrey'",
     "output_type": "error",
     "traceback": [
      "\u001b[1;31m---------------------------------------------------------------------------\u001b[0m",
      "\u001b[1;31mAttributeError\u001b[0m                            Traceback (most recent call last)",
      "Cell \u001b[1;32mIn[48], line 3\u001b[0m\n\u001b[0;32m      1\u001b[0m \u001b[38;5;66;03m#create a list and and print it in array\u001b[39;00m\n\u001b[0;32m      2\u001b[0m a\u001b[38;5;241m=\u001b[39m[\u001b[38;5;241m1\u001b[39m,\u001b[38;5;241m2\u001b[39m,\u001b[38;5;241m3\u001b[39m,\u001b[38;5;241m4\u001b[39m,\u001b[38;5;241m55\u001b[39m,\u001b[38;5;241m5\u001b[39m,]\n\u001b[1;32m----> 3\u001b[0m aa\u001b[38;5;241m=\u001b[39mnp\u001b[38;5;241m.\u001b[39marrey(a)\n\u001b[0;32m      4\u001b[0m a\n",
      "File \u001b[1;32m~\\anaconda3\\Lib\\site-packages\\numpy\\__init__.py:333\u001b[0m, in \u001b[0;36m__getattr__\u001b[1;34m(attr)\u001b[0m\n\u001b[0;32m    330\u001b[0m     \u001b[38;5;124m\"\u001b[39m\u001b[38;5;124mRemoved in NumPy 1.25.0\u001b[39m\u001b[38;5;124m\"\u001b[39m\n\u001b[0;32m    331\u001b[0m     \u001b[38;5;28;01mraise\u001b[39;00m \u001b[38;5;167;01mRuntimeError\u001b[39;00m(\u001b[38;5;124m\"\u001b[39m\u001b[38;5;124mTester was removed in NumPy 1.25.\u001b[39m\u001b[38;5;124m\"\u001b[39m)\n\u001b[1;32m--> 333\u001b[0m \u001b[38;5;28;01mraise\u001b[39;00m \u001b[38;5;167;01mAttributeError\u001b[39;00m(\u001b[38;5;124m\"\u001b[39m\u001b[38;5;124mmodule \u001b[39m\u001b[38;5;132;01m{!r}\u001b[39;00m\u001b[38;5;124m has no attribute \u001b[39m\u001b[38;5;124m\"\u001b[39m\n\u001b[0;32m    334\u001b[0m                      \u001b[38;5;124m\"\u001b[39m\u001b[38;5;132;01m{!r}\u001b[39;00m\u001b[38;5;124m\"\u001b[39m\u001b[38;5;241m.\u001b[39mformat(\u001b[38;5;18m__name__\u001b[39m, attr))\n",
      "\u001b[1;31mAttributeError\u001b[0m: module 'numpy' has no attribute 'arrey'"
     ]
    }
   ],
   "source": [
    "#create a list and and print it in array\n",
    "a=[1,2,3,4,55,5,]\n",
    "aa=np.arrey(a)\n",
    "a"
   ]
  },
  {
   "cell_type": "code",
   "execution_count": 52,
   "id": "9c9f20af-1006-4e9f-abe0-d4530f404bf5",
   "metadata": {},
   "outputs": [
    {
     "data": {
      "text/plain": [
       "1"
      ]
     },
     "execution_count": 52,
     "metadata": {},
     "output_type": "execute_result"
    }
   ],
   "source": [
    "# array operation\n",
    "#ndim\n",
    "a1.ndim"
   ]
  },
  {
   "cell_type": "code",
   "execution_count": 66,
   "id": "a3c06f3b-78f6-45fc-b9e3-e46cdc65bc34",
   "metadata": {},
   "outputs": [
    {
     "data": {
      "text/plain": [
       "5"
      ]
     },
     "execution_count": 66,
     "metadata": {},
     "output_type": "execute_result"
    }
   ],
   "source": [
    "# size \n",
    "#a1 =np.array([1,2,3,4,5])\n",
    "#a1\n",
    "a1.size"
   ]
  },
  {
   "cell_type": "code",
   "execution_count": 70,
   "id": "24a47206-0df0-4a46-a2b6-5162238386a0",
   "metadata": {},
   "outputs": [
    {
     "data": {
      "text/plain": [
       "dtype('int32')"
      ]
     },
     "execution_count": 70,
     "metadata": {},
     "output_type": "execute_result"
    }
   ],
   "source": [
    "a1 =np.array([1,2,3,4,5])\n",
    "a1\n",
    "a1.dtype"
   ]
  },
  {
   "cell_type": "code",
   "execution_count": 74,
   "id": "7ae62e05-d2c3-4deb-b2ed-2e302d1286ef",
   "metadata": {},
   "outputs": [
    {
     "data": {
      "text/plain": [
       "(5,)"
      ]
     },
     "execution_count": 74,
     "metadata": {},
     "output_type": "execute_result"
    }
   ],
   "source": [
    "# shape\n",
    "a1.shape"
   ]
  },
  {
   "cell_type": "code",
   "execution_count": 76,
   "id": "95a5e376-b67b-46fd-9940-055adb24cacb",
   "metadata": {},
   "outputs": [],
   "source": [
    "# 2D Array\n",
    "# syntax: np.array([[]])"
   ]
  },
  {
   "cell_type": "code",
   "execution_count": 80,
   "id": "e4dc4a63-9004-4bc0-b2a0-89aa3b4d8bda",
   "metadata": {},
   "outputs": [
    {
     "data": {
      "text/plain": [
       "array([[1, 2, 3, 4]])"
      ]
     },
     "execution_count": 80,
     "metadata": {},
     "output_type": "execute_result"
    }
   ],
   "source": [
    "a5=np.array([[1,2,3,4]])\n",
    "a5"
   ]
  },
  {
   "cell_type": "code",
   "execution_count": 84,
   "id": "22920282-7797-41be-bdf8-e02201df41c7",
   "metadata": {},
   "outputs": [
    {
     "data": {
      "text/plain": [
       "2"
      ]
     },
     "execution_count": 84,
     "metadata": {},
     "output_type": "execute_result"
    }
   ],
   "source": [
    "a5.ndim #its 2D array"
   ]
  },
  {
   "cell_type": "code",
   "execution_count": 146,
   "id": "1918163d-996a-4068-8702-3bd4f6ace72d",
   "metadata": {},
   "outputs": [
    {
     "data": {
      "text/plain": [
       "array([[1, 2, 3, 3, 3],\n",
       "       [4, 5, 6, 6, 6],\n",
       "       [7, 8, 9, 9, 7]])"
      ]
     },
     "execution_count": 146,
     "metadata": {},
     "output_type": "execute_result"
    }
   ],
   "source": [
    "a6=np.array([[1,2,3,3,3],[4,5,6,6,6],[7,8,9,9,7]])\n",
    "a6"
   ]
  },
  {
   "cell_type": "code",
   "execution_count": 92,
   "id": "f532b2eb-11df-4811-8755-addca8bc3951",
   "metadata": {},
   "outputs": [
    {
     "data": {
      "text/plain": [
       "2"
      ]
     },
     "execution_count": 92,
     "metadata": {},
     "output_type": "execute_result"
    }
   ],
   "source": [
    "a6.ndim"
   ]
  },
  {
   "cell_type": "code",
   "execution_count": 130,
   "id": "e36b66db-7eb1-4638-8da1-41bec56205bf",
   "metadata": {},
   "outputs": [
    {
     "data": {
      "text/plain": [
       "array([[1. , 2. , 3. , 3. , 3. ],\n",
       "       [4. , 5. , 6. , 6. , 6. ],\n",
       "       [7. , 8. , 9. , 9. , 7. ],\n",
       "       [2. , 5. , 9. , 0. , 1.3]])"
      ]
     },
     "execution_count": 130,
     "metadata": {},
     "output_type": "execute_result"
    }
   ],
   "source": [
    "a7=np.array([[1,2,3,3,3],[4,5,6,6,6],[7,8,9,9,7],[2,5,9,0,1.3]])\n",
    "a7"
   ]
  },
  {
   "cell_type": "code",
   "execution_count": 134,
   "id": "3f2ea83d-2313-440f-a821-90b77a98a973",
   "metadata": {},
   "outputs": [
    {
     "data": {
      "text/plain": [
       "20"
      ]
     },
     "execution_count": 134,
     "metadata": {},
     "output_type": "execute_result"
    }
   ],
   "source": [
    "a7.size"
   ]
  },
  {
   "cell_type": "code",
   "execution_count": 138,
   "id": "7ea70e07-c34d-49f3-8810-33e9bed1cb11",
   "metadata": {},
   "outputs": [
    {
     "data": {
      "text/plain": [
       "(4, 5)"
      ]
     },
     "execution_count": 138,
     "metadata": {},
     "output_type": "execute_result"
    }
   ],
   "source": [
    "a7.shape"
   ]
  },
  {
   "cell_type": "code",
   "execution_count": 148,
   "id": "3b31c29d-815f-4f27-a1b9-9379bc1853ce",
   "metadata": {},
   "outputs": [
    {
     "data": {
      "text/plain": [
       "2"
      ]
     },
     "execution_count": 148,
     "metadata": {},
     "output_type": "execute_result"
    }
   ],
   "source": [
    "a7.ndim"
   ]
  },
  {
   "cell_type": "code",
   "execution_count": 154,
   "id": "5a8b9ed1-731a-47cd-8b4d-b90f713fe9eb",
   "metadata": {},
   "outputs": [],
   "source": [
    "# Array Function\n",
    "# Syntax: np.zeros((shape))\n"
   ]
  },
  {
   "cell_type": "code",
   "execution_count": 162,
   "id": "43c940b9-4d27-4b75-a367-1f9e7062458e",
   "metadata": {},
   "outputs": [
    {
     "data": {
      "text/plain": [
       "array([[0., 0., 0.],\n",
       "       [0., 0., 0.],\n",
       "       [0., 0., 0.]])"
      ]
     },
     "execution_count": 162,
     "metadata": {},
     "output_type": "execute_result"
    }
   ],
   "source": [
    "a8=np.zeros((3,3))\n",
    "a8"
   ]
  },
  {
   "cell_type": "code",
   "execution_count": 172,
   "id": "3ac9ee4d-a122-4610-b406-1e0769c79d59",
   "metadata": {},
   "outputs": [
    {
     "data": {
      "text/plain": [
       "(array([[0, 0, 0],\n",
       "        [0, 0, 0],\n",
       "        [0, 0, 0]]),)"
      ]
     },
     "execution_count": 172,
     "metadata": {},
     "output_type": "execute_result"
    }
   ],
   "source": [
    "a8=np.zeros((3,3),'int'),\n",
    "a8"
   ]
  },
  {
   "cell_type": "code",
   "execution_count": 194,
   "id": "255ae464-17f7-478e-9117-fc5fef82c8bb",
   "metadata": {},
   "outputs": [
    {
     "data": {
      "text/plain": [
       "(array([[1, 1, 1],\n",
       "        [1, 1, 1],\n",
       "        [1, 1, 1]]),)"
      ]
     },
     "execution_count": 194,
     "metadata": {},
     "output_type": "execute_result"
    }
   ],
   "source": [
    "a9=np.ones((3,3),'int'),\n",
    "a9"
   ]
  },
  {
   "cell_type": "code",
   "execution_count": 206,
   "id": "37d68030-07aa-4f70-a25d-273d4ce405b6",
   "metadata": {},
   "outputs": [
    {
     "data": {
      "text/plain": [
       "array([[5, 5, 5],\n",
       "       [5, 5, 5],\n",
       "       [5, 5, 5]])"
      ]
     },
     "execution_count": 206,
     "metadata": {},
     "output_type": "execute_result"
    }
   ],
   "source": [
    "# np.full((3,2),5)\n",
    "s1= np.full((3,3),5)\n",
    "s1"
   ]
  }
 ],
 "metadata": {
  "kernelspec": {
   "display_name": "Python 3 (ipykernel)",
   "language": "python",
   "name": "python3"
  },
  "language_info": {
   "codemirror_mode": {
    "name": "ipython",
    "version": 3
   },
   "file_extension": ".py",
   "mimetype": "text/x-python",
   "name": "python",
   "nbconvert_exporter": "python",
   "pygments_lexer": "ipython3",
   "version": "3.11.7"
  }
 },
 "nbformat": 4,
 "nbformat_minor": 5
}
