{
 "cells": [
  {
   "cell_type": "code",
   "execution_count": 10,
   "id": "f9058cb0-1168-4fc4-a90e-310ac69cfdeb",
   "metadata": {},
   "outputs": [
    {
     "name": "stdout",
     "output_type": "stream",
     "text": [
      "F-statistic: 0.44444444444444436\n",
      "P-value: 0.6493561868836465\n",
      "Fail to reject the null hypothesis: there is no significant difference between the groups.\n"
     ]
    }
   ],
   "source": [
    "import numpy as np\n",
    "from scipy.stats import f_oneway\n",
    "\n",
    "# Define groups\n",
    "group1 = [1, 2, 3, 4, 5, 2]\n",
    "group2 = [1, 2, 3, 4, 5, 4]\n",
    "group3 = [1, 2, 3, 4, 5, 8]\n",
    "\n",
    "# Perform one-way ANOVA\n",
    "f_statistic, p_value = f_oneway(group1, group2, group3)  #Performs a one-way ANOVA test to compare the means of the three groups.\n",
    "#The computed F-statistic value, which indicates the ratio of between-group variance to within-group variance.\n",
    "#The probability of observing the results if the null hypothesis (no difference between group means) is true.\n",
    "# Print results\n",
    "print(\"F-statistic:\", f_statistic)\n",
    "print(\"P-value:\", p_value)\n",
    "\n",
    "# Interpret the results\n",
    "if p_value < 0.05:\n",
    "    print(\"Reject the null hypothesis: there is a significant difference between the groups.\")\n",
    "else:\n",
    "    print(\"Fail to reject the null hypothesis: there is no significant difference between the groups.\")\n"
   ]
  },
  {
   "cell_type": "markdown",
   "id": "f060aa06-7d24-4171-b162-8d9520850b8e",
   "metadata": {},
   "source": [
    "**F-statistic** and **P-value** are used in ANOVA (Analysis of Variance) to test if the means of multiple groups are different:\n",
    "\n",
    "- **F-statistic**  \n",
    "   - Measures the ratio of **between-group variance** to **within-group variance**.  \n",
    "   - Higher F-statistic = Greater difference between group means.  \n",
    "   - Formula:  \n",
    "   \\[\n",
    "   F = \\frac{\\text{variance between groups}}{\\text{variance within groups}}\n",
    "   \\]\n",
    "\n",
    "- **P-value**  \n",
    "   - Probability that the observed differences happened by **chance**.  \n",
    "   - Low p-value (usually < 0.05) → Significant difference between groups.  \n",
    "   - High p-value → No significant difference."
   ]
  },
  {
   "cell_type": "markdown",
   "id": "a4084f27-c766-4583-af82-875bf73510b9",
   "metadata": {},
   "source": [
    "In ANOVA, the hypotheses are:\n",
    "\n",
    "- **Null hypothesis (\\( H_0 \\))** → All group means are equal (no significant difference).  \n",
    "- **Alternative hypothesis (\\( H_a \\))** → At least one group mean is different.  \n",
    "\n",
    "### **Decision Rule:**\n",
    "- If **p-value < 0.05** → Reject the null hypothesis → Significant difference between groups.  \n",
    "- If **p-value ≥ 0.05** → Fail to reject the null hypothesis → No significant difference between groups.  \n",
    "\n",
    "### **Example:**\n",
    "- If p-value = 0.03 → Reject \\( H_0 \\) → Means of the groups are significantly different.  \n",
    "- If p-value = 0.10 → Fail to reject \\( H_0 \\) → No evidence of significant difference between groups."
   ]
  },
  {
   "cell_type": "code",
   "execution_count": null,
   "id": "9563408c-a4c9-4a28-8f18-6158b14885f1",
   "metadata": {},
   "outputs": [],
   "source": []
  }
 ],
 "metadata": {
  "kernelspec": {
   "display_name": "Python 3 (ipykernel)",
   "language": "python",
   "name": "python3"
  },
  "language_info": {
   "codemirror_mode": {
    "name": "ipython",
    "version": 3
   },
   "file_extension": ".py",
   "mimetype": "text/x-python",
   "name": "python",
   "nbconvert_exporter": "python",
   "pygments_lexer": "ipython3",
   "version": "3.11.7"
  }
 },
 "nbformat": 4,
 "nbformat_minor": 5
}
