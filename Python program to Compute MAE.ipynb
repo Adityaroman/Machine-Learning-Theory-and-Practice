{
 "cells": [
  {
   "cell_type": "code",
   "execution_count": 4,
   "id": "7adf5d6d-93a5-478b-bba7-cbd93bb2c4b6",
   "metadata": {},
   "outputs": [
    {
     "name": "stdout",
     "output_type": "stream",
     "text": [
      "MAE: 0.5\n"
     ]
    }
   ],
   "source": [
    "from sklearn.metrics import mean_absolute_error\n",
    "y_true = [3,-0.5,2,7] #Actual values\n",
    "y_pred = [2.5,0.0,2,8] #predicted values\n",
    "mse = mean_absolute_error(y_true,y_pred) #Compute MSE\n",
    "print(\"MAE:\",mse) #Output result"
   ]
  },
  {
   "cell_type": "code",
   "execution_count": 8,
   "id": "8aac37f8-b87a-4b18-9445-046bfe70afcb",
   "metadata": {},
   "outputs": [
    {
     "name": "stdout",
     "output_type": "stream",
     "text": [
      "MAE: 0.375\n",
      "MSE: 0.375\n"
     ]
    }
   ],
   "source": [
    "from sklearn.metrics import mean_absolute_error\n",
    "from sklearn.metrics import mean_squared_error\n",
    "y_true = [3,-0.5,2,7] #Actual values\n",
    "y_pred = [2.5,0.0,2,8] #predicted values\n",
    "mse = mean_absolute_error(y_true,y_pred) #Compute MAE\n",
    "mse = mean_squared_error(y_true,y_pred) #Compute MSE\n",
    "print(\"MAE:\",mse) #Output result\n",
    "print(\"MSE:\",mse) #Output result"
   ]
  },
  {
   "cell_type": "code",
   "execution_count": null,
   "id": "0de626c8-3d2b-45ca-b571-b16723e802b9",
   "metadata": {},
   "outputs": [],
   "source": []
  }
 ],
 "metadata": {
  "kernelspec": {
   "display_name": "Python 3 (ipykernel)",
   "language": "python",
   "name": "python3"
  },
  "language_info": {
   "codemirror_mode": {
    "name": "ipython",
    "version": 3
   },
   "file_extension": ".py",
   "mimetype": "text/x-python",
   "name": "python",
   "nbconvert_exporter": "python",
   "pygments_lexer": "ipython3",
   "version": "3.11.7"
  }
 },
 "nbformat": 4,
 "nbformat_minor": 5
}
