{
 "cells": [
  {
   "cell_type": "code",
   "execution_count": 7,
   "id": "d75e4fa0-b69e-4a5d-819e-90a7f3de1d10",
   "metadata": {},
   "outputs": [
    {
     "name": "stdout",
     "output_type": "stream",
     "text": [
      "Predicted fruit: Apple\n"
     ]
    }
   ],
   "source": [
    "from sklearn.neighbors import KNeighborsClassifier\n",
    "import numpy as np\n",
    "\n",
    "# Training data (Weight, Size) and labels\n",
    "X_train = np.array([[150, 7], [160, 8], [140, 6], [300, 12], [310, 13], [290, 11]])\n",
    "y_train = np.array(['Apple', 'Apple', 'Apple', 'Orange', 'Orange', 'Orange'])\n",
    "\n",
    "# New fruit to classify\n",
    "X_test = np.array([[155, 7.5]])\n",
    "\n",
    "# KNN model with K=3\n",
    "knn = KNeighborsClassifier(n_neighbors=3)\n",
    "knn.fit(X_train, y_train)\n",
    "\n",
    "# Predict the fruit type\n",
    "prediction = knn.predict(X_test)\n",
    "print(\"Predicted fruit:\", prediction[0])\n"
   ]
  },
  {
   "cell_type": "code",
   "execution_count": 22,
   "id": "c84da199-cf8f-4fd6-ba21-4b9d2eae9a41",
   "metadata": {},
   "outputs": [
    {
     "name": "stdout",
     "output_type": "stream",
     "text": [
      "Accuracy: 1.0\n",
      "\n",
      "Confusion Matrix:\n",
      " [[10  0  0]\n",
      " [ 0  9  0]\n",
      " [ 0  0 11]]\n"
     ]
    }
   ],
   "source": [
    "import pandas as pd\n",
    "from sklearn.model_selection import train_test_split\n",
    "from sklearn.preprocessing import StandardScaler\n",
    "from sklearn.neighbors import KNeighborsClassifier\n",
    "from sklearn.metrics import confusion_matrix, accuracy_score\n",
    "\n",
    "# Load the dataset\n",
    "df = pd.read_csv(\"iris_data.csv\")\n",
    "\n",
    "# Features and target variable\n",
    "X = df[['sepal_length', 'sepal_width', 'petal_length', 'petal_width']]\n",
    "Y = df['species']\n",
    "\n",
    "# Split the data into training and testing sets\n",
    "X_train, X_test, Y_train, Y_test = train_test_split(X, Y, test_size=0.2, random_state=42)\n",
    "\n",
    "# Scale the features\n",
    "scaler = StandardScaler()\n",
    "X_train = scaler.fit_transform(X_train)\n",
    "X_test = scaler.transform(X_test)\n",
    "\n",
    "# KNN model with K=5\n",
    "k = 5\n",
    "knn = KNeighborsClassifier(n_neighbors=k)\n",
    "knn.fit(X_train, Y_train)\n",
    "\n",
    "# Predict the species\n",
    "Y_pred = knn.predict(X_test)\n",
    "\n",
    "# Calculate accuracy and confusion matrix\n",
    "print(\"Accuracy:\", accuracy_score(Y_test, Y_pred))\n",
    "print(\"\\nConfusion Matrix:\\n\", confusion_matrix(Y_test, Y_pred))\n"
   ]
  },
  {
   "cell_type": "code",
   "execution_count": null,
   "id": "db7764ba-46ef-4a0a-bc45-9d8c5afed1f6",
   "metadata": {},
   "outputs": [],
   "source": []
  },
  {
   "cell_type": "code",
   "execution_count": null,
   "id": "82aa714d-539a-4048-924b-e7d065435f70",
   "metadata": {},
   "outputs": [],
   "source": []
  }
 ],
 "metadata": {
  "kernelspec": {
   "display_name": "Python 3 (ipykernel)",
   "language": "python",
   "name": "python3"
  },
  "language_info": {
   "codemirror_mode": {
    "name": "ipython",
    "version": 3
   },
   "file_extension": ".py",
   "mimetype": "text/x-python",
   "name": "python",
   "nbconvert_exporter": "python",
   "pygments_lexer": "ipython3",
   "version": "3.11.7"
  }
 },
 "nbformat": 4,
 "nbformat_minor": 5
}
