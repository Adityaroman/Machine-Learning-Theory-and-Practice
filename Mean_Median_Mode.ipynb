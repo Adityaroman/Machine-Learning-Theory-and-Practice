{
 "cells": [
  {
   "cell_type": "code",
   "execution_count": 2,
   "id": "f957277c-85a8-46da-adfe-cacd4e74064d",
   "metadata": {},
   "outputs": [
    {
     "name": "stdout",
     "output_type": "stream",
     "text": [
      "Mean: 24.0\n",
      "Median: 20.0\n",
      "Mode: 20\n"
     ]
    }
   ],
   "source": [
    "import numpy as np\n",
    "from scipy import stats\n",
    "\n",
    "# Example data\n",
    "data = [10, 20, 20, 30, 40]\n",
    "\n",
    "# Calculate mean\n",
    "mean = np.mean(data)\n",
    "\n",
    "# Calculate median\n",
    "median = np.median(data)\n",
    "\n",
    "# Calculate mode\n",
    "mode = stats.mode(data, keepdims=True).mode[0]\n",
    "\n",
    "# Print results\n",
    "print(f\"Mean: {mean}\")\n",
    "print(f\"Median: {median}\")\n",
    "print(f\"Mode: {mode}\")\n"
   ]
  },
  {
   "cell_type": "code",
   "execution_count": null,
   "id": "14bd9748-b731-4ced-896d-61cd6ba670aa",
   "metadata": {},
   "outputs": [],
   "source": []
  }
 ],
 "metadata": {
  "kernelspec": {
   "display_name": "Python 3 (ipykernel)",
   "language": "python",
   "name": "python3"
  },
  "language_info": {
   "codemirror_mode": {
    "name": "ipython",
    "version": 3
   },
   "file_extension": ".py",
   "mimetype": "text/x-python",
   "name": "python",
   "nbconvert_exporter": "python",
   "pygments_lexer": "ipython3",
   "version": "3.11.7"
  }
 },
 "nbformat": 4,
 "nbformat_minor": 5
}
