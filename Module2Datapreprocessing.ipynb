{
 "cells": [
  {
   "cell_type": "markdown",
   "id": "ac7a6454-0b1a-42ea-9435-30f997df9d09",
   "metadata": {},
   "source": [
    "Q.Demonstrate the following techniques for a given dataset.Wrte a python programe to compute \n",
    "a)a)Handeling the missing values in datasets.\n",
    "b)FIlling missing values with mean\n",
    "c)Feature Normilazation: Min-Max normalization on ires data"
   ]
  },
  {
   "cell_type": "code",
   "execution_count": 4,
   "id": "a065307f-9c63-40ff-90f5-412fa46372d8",
   "metadata": {},
   "outputs": [
    {
     "data": {
      "text/html": [
       "<div>\n",
       "<style scoped>\n",
       "    .dataframe tbody tr th:only-of-type {\n",
       "        vertical-align: middle;\n",
       "    }\n",
       "\n",
       "    .dataframe tbody tr th {\n",
       "        vertical-align: top;\n",
       "    }\n",
       "\n",
       "    .dataframe thead th {\n",
       "        text-align: right;\n",
       "    }\n",
       "</style>\n",
       "<table border=\"1\" class=\"dataframe\">\n",
       "  <thead>\n",
       "    <tr style=\"text-align: right;\">\n",
       "      <th></th>\n",
       "      <th>ID</th>\n",
       "      <th>Fee</th>\n",
       "      <th>Fee_Normalized</th>\n",
       "    </tr>\n",
       "  </thead>\n",
       "  <tbody>\n",
       "    <tr>\n",
       "      <th>0</th>\n",
       "      <td>34</td>\n",
       "      <td>50000.0</td>\n",
       "      <td>1.000000</td>\n",
       "    </tr>\n",
       "    <tr>\n",
       "      <th>1</th>\n",
       "      <td>64</td>\n",
       "      <td>10000.0</td>\n",
       "      <td>0.101124</td>\n",
       "    </tr>\n",
       "    <tr>\n",
       "      <th>2</th>\n",
       "      <td>55</td>\n",
       "      <td>18275.0</td>\n",
       "      <td>0.287079</td>\n",
       "    </tr>\n",
       "    <tr>\n",
       "      <th>3</th>\n",
       "      <td>pending</td>\n",
       "      <td>5500.0</td>\n",
       "      <td>0.000000</td>\n",
       "    </tr>\n",
       "    <tr>\n",
       "      <th>4</th>\n",
       "      <td>57</td>\n",
       "      <td>7600.0</td>\n",
       "      <td>0.047191</td>\n",
       "    </tr>\n",
       "    <tr>\n",
       "      <th>5</th>\n",
       "      <td>66</td>\n",
       "      <td>18275.0</td>\n",
       "      <td>0.287079</td>\n",
       "    </tr>\n",
       "  </tbody>\n",
       "</table>\n",
       "</div>"
      ],
      "text/plain": [
       "        ID      Fee  Fee_Normalized\n",
       "0       34  50000.0        1.000000\n",
       "1       64  10000.0        0.101124\n",
       "2       55  18275.0        0.287079\n",
       "3  pending   5500.0        0.000000\n",
       "4       57   7600.0        0.047191\n",
       "5       66  18275.0        0.287079"
      ]
     },
     "execution_count": 4,
     "metadata": {},
     "output_type": "execute_result"
    }
   ],
   "source": [
    "import pandas as pd\n",
    "import numpy as np\n",
    "\n",
    "# Step 1: Create the DataFrame\n",
    "Fee_Status = pd.DataFrame({\n",
    "    'ID': ['34', '64', '55', 'pending', '57', '66'],\n",
    "    'Fee': [50000, 10000, np.nan, 5500, 7600, np.nan]\n",
    "})\n",
    "\n",
    "# Step 2: Handle missing values (this step is implicit in the next step)\n",
    "# Step 3: Fill missing values with mean\n",
    "mean_fee = Fee_Status['Fee'].mean()\n",
    "Fee_Status['Fee'].fillna(mean_fee, inplace=True)\n",
    "\n",
    "# Step 4: Min-Max Normalization\n",
    "Fee_Status['Fee_Normalized'] = (Fee_Status['Fee'] - Fee_Status['Fee'].min()) / (Fee_Status['Fee'].max() - Fee_Status['Fee'].min())\n",
    "\n",
    "Fee_Status"
   ]
  },
  {
   "cell_type": "code",
   "execution_count": 33,
   "id": "d88bb23f-c4fa-433c-bc5b-b9dfc57824d2",
   "metadata": {},
   "outputs": [
    {
     "name": "stdout",
     "output_type": "stream",
     "text": [
      "   A1    A2    A3\n",
      "0  10  25.0  21.0\n",
      "1  20   NaN  22.0\n",
      "2  30   NaN  23.0\n",
      "3  40  29.0   NaN\n"
     ]
    }
   ],
   "source": [
    "#b)\n",
    "import pandas as pd\n",
    "import numpy as np\n",
    "\n",
    "a={'A1':[10,20,30,40],\n",
    "  'A2':[25,np.nan,np.nan,29],\n",
    "  'A3':[21,22,23,np.nan]}\n",
    "df=pd.DataFrame(a)\n",
    "print(df)"
   ]
  },
  {
   "cell_type": "code",
   "execution_count": 37,
   "id": "7a87bfe6-0d25-4a29-b195-89d32f139128",
   "metadata": {},
   "outputs": [
    {
     "data": {
      "text/plain": [
       "A1    0\n",
       "A2    2\n",
       "A3    1\n",
       "dtype: int64"
      ]
     },
     "execution_count": 37,
     "metadata": {},
     "output_type": "execute_result"
    }
   ],
   "source": [
    "null_value=df.isnull()\n",
    "null_value\n",
    "null_count=df.isnull().sum()\n",
    "null_count"
   ]
  },
  {
   "cell_type": "code",
   "execution_count": 23,
   "id": "dc0492f3-7e02-4a5f-9900-ca654cd5e6de",
   "metadata": {},
   "outputs": [
    {
     "name": "stdout",
     "output_type": "stream",
     "text": [
      "   A1    A2    A3\n",
      "0  10  25.0  21.0\n",
      "1  20  27.0  22.0\n",
      "2  30  27.0  23.0\n",
      "3  40  29.0  22.0\n"
     ]
    }
   ],
   "source": [
    "df.fillna(df.mean(), inplace=True)\n",
    "\n",
    "print(df)"
   ]
  },
  {
   "cell_type": "code",
   "execution_count": 21,
   "id": "6639a2ad-abb4-486c-be9d-4ea4439789aa",
   "metadata": {},
   "outputs": [
    {
     "data": {
      "text/html": [
       "<div>\n",
       "<style scoped>\n",
       "    .dataframe tbody tr th:only-of-type {\n",
       "        vertical-align: middle;\n",
       "    }\n",
       "\n",
       "    .dataframe tbody tr th {\n",
       "        vertical-align: top;\n",
       "    }\n",
       "\n",
       "    .dataframe thead th {\n",
       "        text-align: right;\n",
       "    }\n",
       "</style>\n",
       "<table border=\"1\" class=\"dataframe\">\n",
       "  <thead>\n",
       "    <tr style=\"text-align: right;\">\n",
       "      <th></th>\n",
       "      <th>A1</th>\n",
       "      <th>A2</th>\n",
       "      <th>A3</th>\n",
       "    </tr>\n",
       "  </thead>\n",
       "  <tbody>\n",
       "    <tr>\n",
       "      <th>0</th>\n",
       "      <td>10</td>\n",
       "      <td>25.0</td>\n",
       "      <td>21.0</td>\n",
       "    </tr>\n",
       "    <tr>\n",
       "      <th>1</th>\n",
       "      <td>20</td>\n",
       "      <td>27.0</td>\n",
       "      <td>22.0</td>\n",
       "    </tr>\n",
       "    <tr>\n",
       "      <th>2</th>\n",
       "      <td>30</td>\n",
       "      <td>27.0</td>\n",
       "      <td>23.0</td>\n",
       "    </tr>\n",
       "    <tr>\n",
       "      <th>3</th>\n",
       "      <td>40</td>\n",
       "      <td>29.0</td>\n",
       "      <td>NaN</td>\n",
       "    </tr>\n",
       "  </tbody>\n",
       "</table>\n",
       "</div>"
      ],
      "text/plain": [
       "   A1    A2    A3\n",
       "0  10  25.0  21.0\n",
       "1  20  27.0  22.0\n",
       "2  30  27.0  23.0\n",
       "3  40  29.0   NaN"
      ]
     },
     "execution_count": 21,
     "metadata": {},
     "output_type": "execute_result"
    }
   ],
   "source": [
    "df['A2'].fillna(df['A2'].mean(), inplace=True)\n",
    "df"
   ]
  },
  {
   "cell_type": "code",
   "execution_count": 29,
   "id": "8ae00d3d-1717-4dff-8efb-f5605cc0fc42",
   "metadata": {},
   "outputs": [
    {
     "name": "stdout",
     "output_type": "stream",
     "text": [
      "Updated dataFrame:\n",
      "   A1    A2    A3\n",
      "0  10  25.0  21.0\n",
      "1  20  27.0  22.0\n",
      "2  30  27.0  23.0\n",
      "3  40  29.0  22.0\n"
     ]
    }
   ],
   "source": [
    "mean_value=df['A3'].mean()\n",
    "df['A3'].fillna(value=mean_value, inplace = True)\n",
    "print('Updated dataFrame:')\n",
    "print(df)"
   ]
  },
  {
   "cell_type": "code",
   "execution_count": 51,
   "id": "224e0df7-b5e6-485e-8a78-44b066a0b446",
   "metadata": {},
   "outputs": [
    {
     "name": "stdout",
     "output_type": "stream",
     "text": [
      "original Dataset:\n",
      "   sepal length (cm)  sepal width (cm)  petal length (cm)  petal width (cm)\n",
      "0                5.1               3.5                1.4               0.2\n",
      "1                4.9               3.0                1.4               0.2\n",
      "2                4.7               3.2                1.3               0.2\n",
      "3                4.6               3.1                1.5               0.2\n",
      "4                5.0               3.6                1.4               0.2\n",
      "MinMaxScaler()\n",
      "\n",
      "Normalized Dataset:\n",
      "   sepal length (cm)  sepal width (cm)  petal length (cm)  petal width (cm)\n",
      "0           0.222222          0.625000           0.067797          0.041667\n",
      "1           0.166667          0.416667           0.067797          0.041667\n",
      "2           0.111111          0.500000           0.050847          0.041667\n",
      "3           0.083333          0.458333           0.084746          0.041667\n",
      "4           0.194444          0.666667           0.067797          0.041667\n"
     ]
    }
   ],
   "source": [
    "import pandas as pd\n",
    "from sklearn.preprocessing import MinMaxScaler\n",
    "from sklearn.datasets import load_iris\n",
    "iris = load_iris()\n",
    "data=iris.data\n",
    "columns=iris.feature_names\n",
    "df=pd.DataFrame(data, columns=columns)\n",
    "print(\"original Dataset:\")\n",
    "print(df.head())\n",
    "scaler=MinMaxScaler()  \n",
    "print(scaler)\n",
    "normalized_data=scaler.fit_transform(df)\n",
    "df_normalized = pd.DataFrame(normalized_data, columns=columns)\n",
    "print(\"\\nNormalized Dataset:\")\n",
    "print(df_normalized.head())"
   ]
  },
  {
   "cell_type": "code",
   "execution_count": 53,
   "id": "1f3d2b0f-c260-4ad1-852d-64bc46adb81c",
   "metadata": {},
   "outputs": [
    {
     "data": {
      "text/html": [
       "<div>\n",
       "<style scoped>\n",
       "    .dataframe tbody tr th:only-of-type {\n",
       "        vertical-align: middle;\n",
       "    }\n",
       "\n",
       "    .dataframe tbody tr th {\n",
       "        vertical-align: top;\n",
       "    }\n",
       "\n",
       "    .dataframe thead th {\n",
       "        text-align: right;\n",
       "    }\n",
       "</style>\n",
       "<table border=\"1\" class=\"dataframe\">\n",
       "  <thead>\n",
       "    <tr style=\"text-align: right;\">\n",
       "      <th></th>\n",
       "      <th>sepal length (cm)</th>\n",
       "      <th>sepal width (cm)</th>\n",
       "      <th>petal length (cm)</th>\n",
       "      <th>petal width (cm)</th>\n",
       "    </tr>\n",
       "  </thead>\n",
       "  <tbody>\n",
       "    <tr>\n",
       "      <th>count</th>\n",
       "      <td>150.000000</td>\n",
       "      <td>150.000000</td>\n",
       "      <td>150.000000</td>\n",
       "      <td>150.000000</td>\n",
       "    </tr>\n",
       "    <tr>\n",
       "      <th>mean</th>\n",
       "      <td>5.843333</td>\n",
       "      <td>3.057333</td>\n",
       "      <td>3.758000</td>\n",
       "      <td>1.199333</td>\n",
       "    </tr>\n",
       "    <tr>\n",
       "      <th>std</th>\n",
       "      <td>0.828066</td>\n",
       "      <td>0.435866</td>\n",
       "      <td>1.765298</td>\n",
       "      <td>0.762238</td>\n",
       "    </tr>\n",
       "    <tr>\n",
       "      <th>min</th>\n",
       "      <td>4.300000</td>\n",
       "      <td>2.000000</td>\n",
       "      <td>1.000000</td>\n",
       "      <td>0.100000</td>\n",
       "    </tr>\n",
       "    <tr>\n",
       "      <th>25%</th>\n",
       "      <td>5.100000</td>\n",
       "      <td>2.800000</td>\n",
       "      <td>1.600000</td>\n",
       "      <td>0.300000</td>\n",
       "    </tr>\n",
       "    <tr>\n",
       "      <th>50%</th>\n",
       "      <td>5.800000</td>\n",
       "      <td>3.000000</td>\n",
       "      <td>4.350000</td>\n",
       "      <td>1.300000</td>\n",
       "    </tr>\n",
       "    <tr>\n",
       "      <th>75%</th>\n",
       "      <td>6.400000</td>\n",
       "      <td>3.300000</td>\n",
       "      <td>5.100000</td>\n",
       "      <td>1.800000</td>\n",
       "    </tr>\n",
       "    <tr>\n",
       "      <th>max</th>\n",
       "      <td>7.900000</td>\n",
       "      <td>4.400000</td>\n",
       "      <td>6.900000</td>\n",
       "      <td>2.500000</td>\n",
       "    </tr>\n",
       "  </tbody>\n",
       "</table>\n",
       "</div>"
      ],
      "text/plain": [
       "       sepal length (cm)  sepal width (cm)  petal length (cm)  \\\n",
       "count         150.000000        150.000000         150.000000   \n",
       "mean            5.843333          3.057333           3.758000   \n",
       "std             0.828066          0.435866           1.765298   \n",
       "min             4.300000          2.000000           1.000000   \n",
       "25%             5.100000          2.800000           1.600000   \n",
       "50%             5.800000          3.000000           4.350000   \n",
       "75%             6.400000          3.300000           5.100000   \n",
       "max             7.900000          4.400000           6.900000   \n",
       "\n",
       "       petal width (cm)  \n",
       "count        150.000000  \n",
       "mean           1.199333  \n",
       "std            0.762238  \n",
       "min            0.100000  \n",
       "25%            0.300000  \n",
       "50%            1.300000  \n",
       "75%            1.800000  \n",
       "max            2.500000  "
      ]
     },
     "execution_count": 53,
     "metadata": {},
     "output_type": "execute_result"
    }
   ],
   "source": [
    "df.describe()"
   ]
  },
  {
   "cell_type": "code",
   "execution_count": 47,
   "id": "2ed3089a-6a93-4afc-ba14-3e8097ba87d5",
   "metadata": {},
   "outputs": [
    {
     "name": "stdout",
     "output_type": "stream",
     "text": [
      "Outliers: [100]\n"
     ]
    }
   ],
   "source": [
    "#TO find Outliers\n",
    "import numpy as np\n",
    "data=[10,12,14,11,13,100,12,15,14,1,]\n",
    "mean=np.mean(data)\n",
    "std_dev=np.std(data)\n",
    "threshold = 2\n",
    "outliers = [x for x in data if (x-mean)/std_dev>threshold]\n",
    "print(\"Outliers:\", outliers)"
   ]
  },
  {
   "cell_type": "code",
   "execution_count": 35,
   "id": "9bc4c94a-a0ae-4566-9b62-08ad0996dbd0",
   "metadata": {},
   "outputs": [
    {
     "name": "stdout",
     "output_type": "stream",
     "text": [
      "Data without outliers: [10, 12, 14, 11, 13, 12, 15, 14, 11]\n"
     ]
    }
   ],
   "source": [
    "# TO Drop Outlier\n",
    "import numpy as np\n",
    "data=[10,12,14,11,13,100,12,15,14,11]\n",
    "mean=np.mean(data)\n",
    "std_dev=np.std(data)\n",
    "threshold = 2\n",
    "Filtered_data = [x for x in data if abs((x-mean)/std_dev)<=threshold]\n",
    "print(\"Data without outliers:\", Filtered_data)"
   ]
  },
  {
   "cell_type": "code",
   "execution_count": 1,
   "id": "04c53023-e581-4719-aead-c858f23bbf5c",
   "metadata": {},
   "outputs": [
    {
     "name": "stdout",
     "output_type": "stream",
     "text": [
      "Outliers: [100, 300, 400]\n"
     ]
    }
   ],
   "source": [
    "import numpy as np\n",
    "\n",
    "data = [10, 12, 14, 11, 13, 100, 12, 15, 14, 1, 300, 400]\n",
    "\n",
    "\n",
    "Q1 = np.percentile(data, 25)\n",
    "Q3 = np.percentile(data, 75)\n",
    "IQR = Q3 - Q1\n",
    "\n",
    "lower_bound = Q1 - 1.5 * IQR  #1.5 is the sensitivity(u can keep either 1,2,3 but kep it 1.5)\n",
    "upper_bound = Q3 + 1.5 * IQR\n",
    "\n",
    "outliers = [x for x in data if x <= lower_bound or x >= upper_bound]\n",
    "print(\"Outliers:\", outliers)"
   ]
  },
  {
   "cell_type": "code",
   "execution_count": 2,
   "id": "6ec9c39b-ab07-4deb-9601-b42625bdfc9d",
   "metadata": {},
   "outputs": [
    {
     "name": "stdout",
     "output_type": "stream",
     "text": [
      "    A\n",
      "0  10\n",
      "1  12\n",
      "2  14\n",
      "3  15\n",
      "4  18\n",
      "5  19\n",
      "6  20\n",
      "7  30\n",
      "8  35\n"
     ]
    }
   ],
   "source": [
    "import pandas as pd \n",
    "data = {'A':[10,12,14,15,18,19,20,30,35,100]} \n",
    "df = pd.DataFrame(data)\n",
    "Q1=df['A'].quantile(0.25)\n",
    "Q3=df['A'].quantile(0.75)\n",
    "IQR=Q3-Q1\n",
    "lower_bound=Q1-1.5*IQR\n",
    "upper_bound=Q3+1.5*IQR\n",
    "df=df[(df['A']>=lower_bound)&(df['A']<=upper_bound)] #inclusive range\n"
   ]
  },
  {
   "cell_type": "code",
   "execution_count": null,
   "id": "1dcc584e-a188-4ff0-ae22-56a471980d02",
   "metadata": {},
   "outputs": [],
   "source": []
  }
 ],
 "metadata": {
  "kernelspec": {
   "display_name": "Python 3 (ipykernel)",
   "language": "python",
   "name": "python3"
  },
  "language_info": {
   "codemirror_mode": {
    "name": "ipython",
    "version": 3
   },
   "file_extension": ".py",
   "mimetype": "text/x-python",
   "name": "python",
   "nbconvert_exporter": "python",
   "pygments_lexer": "ipython3",
   "version": "3.11.7"
  }
 },
 "nbformat": 4,
 "nbformat_minor": 5
}
